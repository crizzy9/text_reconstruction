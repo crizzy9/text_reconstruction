{
 "cells": [
  {
   "cell_type": "code",
   "execution_count": 45,
   "metadata": {},
   "outputs": [],
   "source": [
    "import logging\n",
    "logging.basicConfig(format='%(asctime)s : %(levelname)s : %(message)s', level=logging.INFO)"
   ]
  },
  {
   "cell_type": "code",
   "execution_count": 46,
   "metadata": {},
   "outputs": [],
   "source": [
    "from gensim import corpora\n",
    "documents = [\"Human machine interface for lab abc computer applications\",\n",
    "             \"A survey of user opinion of computer system response time\",\n",
    "             \"The EPS user interface management system\",\n",
    "             \"System and human system engineering testing of EPS\",\n",
    "             \"Relation of user perceived response time to error measurement\",\n",
    "             \"The generation of random binary unordered trees\",\n",
    "             \"The intersection graph of paths in trees\",\n",
    "             \"Graph minors IV Widths of trees and well quasi ordering\",\n",
    "             \"Graph minors A survey\"]\n",
    "# documents = [\"its easy to copy and do well\"]"
   ]
  },
  {
   "cell_type": "code",
   "execution_count": 47,
   "metadata": {},
   "outputs": [
    {
     "name": "stdout",
     "output_type": "stream",
     "text": [
      "[['human', 'machine', 'interface', 'lab', 'abc', 'computer', 'applications'],\n",
      " ['survey', 'user', 'opinion', 'computer', 'system', 'response', 'time'],\n",
      " ['eps', 'user', 'interface', 'management', 'system'],\n",
      " ['system', 'human', 'system', 'engineering', 'testing', 'eps'],\n",
      " ['relation', 'user', 'perceived', 'response', 'time', 'error', 'measurement'],\n",
      " ['generation', 'random', 'binary', 'unordered', 'trees'],\n",
      " ['intersection', 'graph', 'paths', 'trees'],\n",
      " ['graph', 'minors', 'iv', 'widths', 'trees', 'well', 'quasi', 'ordering'],\n",
      " ['graph', 'minors', 'survey']]\n"
     ]
    }
   ],
   "source": [
    "# remove common words and tokenize\n",
    "stoplist = set('for a of the and to in'.split())\n",
    "texts = [[word for word in document.lower().split() if word not in stoplist]\n",
    "         for document in documents]\n",
    "\n",
    "# remove words that appear only once\n",
    "from collections import defaultdict\n",
    "frequency = defaultdict(int)\n",
    "for text in texts:\n",
    "    for token in text:\n",
    "        frequency[token] += 1\n",
    "\n",
    "# texts = [[token for token in text if frequency[token] > 1] for text in texts]\n",
    "\n",
    "from pprint import pprint  # pretty-printer\n",
    "pprint(texts)"
   ]
  },
  {
   "cell_type": "code",
   "execution_count": 48,
   "metadata": {},
   "outputs": [
    {
     "name": "stderr",
     "output_type": "stream",
     "text": [
      "2018-03-25 19:36:24,392 : INFO : adding document #0 to Dictionary(0 unique tokens: [])\n",
      "2018-03-25 19:36:24,394 : INFO : built Dictionary(35 unique tokens: ['abc', 'applications', 'computer', 'human', 'interface']...) from 9 documents (total 52 corpus positions)\n",
      "2018-03-25 19:36:24,395 : INFO : saving Dictionary object under ./sims.dict, separately None\n",
      "2018-03-25 19:36:24,397 : INFO : saved ./sims.dict\n"
     ]
    },
    {
     "name": "stdout",
     "output_type": "stream",
     "text": [
      "Dictionary(35 unique tokens: ['abc', 'applications', 'computer', 'human', 'interface']...)\n"
     ]
    }
   ],
   "source": [
    "dictionary = corpora.Dictionary(texts)\n",
    "dictionary.save('./sims.dict')  # store the dictionary, for future reference\n",
    "print(dictionary)"
   ]
  },
  {
   "cell_type": "code",
   "execution_count": 49,
   "metadata": {},
   "outputs": [
    {
     "name": "stdout",
     "output_type": "stream",
     "text": [
      "{'abc': 0, 'applications': 1, 'computer': 2, 'human': 3, 'interface': 4, 'lab': 5, 'machine': 6, 'opinion': 7, 'response': 8, 'survey': 9, 'system': 10, 'time': 11, 'user': 12, 'eps': 13, 'management': 14, 'engineering': 15, 'testing': 16, 'error': 17, 'measurement': 18, 'perceived': 19, 'relation': 20, 'binary': 21, 'generation': 22, 'random': 23, 'trees': 24, 'unordered': 25, 'graph': 26, 'intersection': 27, 'paths': 28, 'iv': 29, 'minors': 30, 'ordering': 31, 'quasi': 32, 'well': 33, 'widths': 34}\n"
     ]
    }
   ],
   "source": [
    "print(dictionary.token2id)"
   ]
  },
  {
   "cell_type": "code",
   "execution_count": 50,
   "metadata": {},
   "outputs": [
    {
     "name": "stdout",
     "output_type": "stream",
     "text": [
      "[(2, 1), (3, 1)]\n"
     ]
    }
   ],
   "source": [
    "new_doc = \"Human computer interaction\"\n",
    "new_vec = dictionary.doc2bow(new_doc.lower().split())\n",
    "print(new_vec)  # the word \"interaction\" does not appear in the dictionary and is ignored"
   ]
  },
  {
   "cell_type": "code",
   "execution_count": 51,
   "metadata": {},
   "outputs": [
    {
     "name": "stderr",
     "output_type": "stream",
     "text": [
      "2018-03-25 19:36:24,763 : INFO : storing corpus in Matrix Market format to ./sims.mm\n",
      "2018-03-25 19:36:24,765 : INFO : saving sparse matrix to ./sims.mm\n",
      "2018-03-25 19:36:24,767 : INFO : PROGRESS: saving document #0\n",
      "2018-03-25 19:36:24,768 : INFO : saved 9x35 matrix, density=16.190% (51/315)\n",
      "2018-03-25 19:36:24,769 : INFO : saving MmCorpus index to ./sims.mm.index\n"
     ]
    },
    {
     "name": "stdout",
     "output_type": "stream",
     "text": [
      "[(0, 1), (1, 1), (2, 1), (3, 1), (4, 1), (5, 1), (6, 1)]\n",
      "[(2, 1), (7, 1), (8, 1), (9, 1), (10, 1), (11, 1), (12, 1)]\n",
      "[(4, 1), (10, 1), (12, 1), (13, 1), (14, 1)]\n",
      "[(3, 1), (10, 2), (13, 1), (15, 1), (16, 1)]\n",
      "[(8, 1), (11, 1), (12, 1), (17, 1), (18, 1), (19, 1), (20, 1)]\n",
      "[(21, 1), (22, 1), (23, 1), (24, 1), (25, 1)]\n",
      "[(24, 1), (26, 1), (27, 1), (28, 1)]\n",
      "[(24, 1), (26, 1), (29, 1), (30, 1), (31, 1), (32, 1), (33, 1), (34, 1)]\n",
      "[(9, 1), (26, 1), (30, 1)]\n"
     ]
    }
   ],
   "source": [
    "corpus = [dictionary.doc2bow(text) for text in texts]\n",
    "corpora.MmCorpus.serialize('./sims.mm', corpus)  # store to disk, for later use\n",
    "for c in corpus:\n",
    "    print(c)"
   ]
  },
  {
   "cell_type": "code",
   "execution_count": 52,
   "metadata": {},
   "outputs": [
    {
     "name": "stderr",
     "output_type": "stream",
     "text": [
      "2018-03-25 19:36:24,887 : INFO : loading Dictionary object from ./sims.dict\n",
      "2018-03-25 19:36:24,888 : INFO : loaded ./sims.dict\n",
      "2018-03-25 19:36:24,890 : INFO : loaded corpus index from ./sims.mm.index\n",
      "2018-03-25 19:36:24,891 : INFO : initializing cython corpus reader from ./sims.mm\n",
      "2018-03-25 19:36:24,892 : INFO : accepted corpus with 9 documents, 35 features, 51 non-zero entries\n"
     ]
    },
    {
     "name": "stdout",
     "output_type": "stream",
     "text": [
      "MmCorpus(9 documents, 35 features, 51 non-zero entries)\n"
     ]
    }
   ],
   "source": [
    "from gensim import corpora, models, similarities\n",
    "\n",
    "dictionary = corpora.Dictionary.load('./sims.dict')\n",
    "corpus = corpora.MmCorpus('./sims.mm') # comes from the first tutorial, \"Corpora and Vector Space\"\n",
    "print(corpus)"
   ]
  },
  {
   "cell_type": "code",
   "execution_count": 53,
   "metadata": {},
   "outputs": [
    {
     "name": "stderr",
     "output_type": "stream",
     "text": [
      "2018-03-25 19:36:25,017 : INFO : using serial LSI version on this node\n",
      "2018-03-25 19:36:25,018 : INFO : updating model with new documents\n",
      "2018-03-25 19:36:25,020 : INFO : preparing a new chunk of documents\n",
      "2018-03-25 19:36:25,022 : INFO : using 100 extra samples and 2 power iterations\n",
      "2018-03-25 19:36:25,023 : INFO : 1st phase: constructing (35, 102) action matrix\n",
      "2018-03-25 19:36:25,024 : INFO : orthonormalizing (35, 102) action matrix\n",
      "2018-03-25 19:36:25,034 : INFO : 2nd phase: running dense svd on (35, 9) matrix\n",
      "2018-03-25 19:36:25,037 : INFO : computing the final decomposition\n",
      "2018-03-25 19:36:25,038 : INFO : keeping 2 factors (discarding 57.737% of energy spectrum)\n",
      "2018-03-25 19:36:25,039 : INFO : processed documents up to #9\n",
      "2018-03-25 19:36:25,041 : INFO : topic #0(3.594): 0.579*\"system\" + 0.376*\"user\" + 0.270*\"eps\" + 0.257*\"time\" + 0.257*\"response\" + 0.230*\"computer\" + 0.224*\"human\" + 0.191*\"interface\" + 0.176*\"survey\" + 0.157*\"opinion\"\n",
      "2018-03-25 19:36:25,043 : INFO : topic #1(3.148): -0.480*\"graph\" + -0.464*\"trees\" + -0.361*\"minors\" + -0.266*\"widths\" + -0.266*\"iv\" + -0.266*\"ordering\" + -0.266*\"quasi\" + -0.266*\"well\" + -0.119*\"paths\" + -0.119*\"intersection\"\n"
     ]
    }
   ],
   "source": [
    "lsi = models.LsiModel(corpus, id2word=dictionary, num_topics=2)"
   ]
  },
  {
   "cell_type": "code",
   "execution_count": 54,
   "metadata": {},
   "outputs": [
    {
     "name": "stdout",
     "output_type": "stream",
     "text": [
      "[(0, 0.453212762871565), (1, 0.03843944771149868)]\n"
     ]
    }
   ],
   "source": [
    "doc = \"Human computer interaction\"\n",
    "vec_bow = dictionary.doc2bow(doc.lower().split())\n",
    "vec_lsi = lsi[vec_bow] # convert the query to LSI space\n",
    "print(vec_lsi)"
   ]
  },
  {
   "cell_type": "code",
   "execution_count": 55,
   "metadata": {},
   "outputs": [
    {
     "name": "stderr",
     "output_type": "stream",
     "text": [
      "2018-03-25 19:36:25,756 : WARNING : scanning corpus to determine the number of features (consider setting `num_features` explicitly)\n",
      "2018-03-25 19:36:25,759 : INFO : creating matrix with 9 documents and 2 features\n"
     ]
    }
   ],
   "source": [
    "index = similarities.MatrixSimilarity(lsi[corpus]) # transform corpus to LSI space and index it"
   ]
  },
  {
   "cell_type": "code",
   "execution_count": 56,
   "metadata": {},
   "outputs": [
    {
     "name": "stderr",
     "output_type": "stream",
     "text": [
      "2018-03-25 19:36:25,869 : INFO : saving MatrixSimilarity object under ./sims.index, separately None\n",
      "2018-03-25 19:36:25,871 : INFO : saved ./sims.index\n"
     ]
    }
   ],
   "source": [
    "index.save('./sims.index')"
   ]
  },
  {
   "cell_type": "code",
   "execution_count": 57,
   "metadata": {},
   "outputs": [
    {
     "name": "stdout",
     "output_type": "stream",
     "text": [
      "[(0, 0.99962217), (1, 0.9941941), (2, 0.9999954), (3, 0.9996517), (4, 0.9962734), (5, -0.055301595), (6, -0.036689866), (7, -0.03771901), (8, 0.16008198)]\n"
     ]
    }
   ],
   "source": [
    "sims = index[vec_lsi] # perform a similarity query against the corpus\n",
    "print(list(enumerate(sims))) # print (document_number, document_similarity) 2-tuples"
   ]
  },
  {
   "cell_type": "code",
   "execution_count": null,
   "metadata": {},
   "outputs": [],
   "source": []
  },
  {
   "cell_type": "code",
   "execution_count": null,
   "metadata": {},
   "outputs": [],
   "source": []
  }
 ],
 "metadata": {
  "kernelspec": {
   "display_name": "Python 3",
   "language": "python",
   "name": "python3"
  },
  "language_info": {
   "codemirror_mode": {
    "name": "ipython",
    "version": 3
   },
   "file_extension": ".py",
   "mimetype": "text/x-python",
   "name": "python",
   "nbconvert_exporter": "python",
   "pygments_lexer": "ipython3",
   "version": "3.6.3"
  }
 },
 "nbformat": 4,
 "nbformat_minor": 2
}
