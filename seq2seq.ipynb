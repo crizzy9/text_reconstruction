{
  "nbformat": 4,
  "nbformat_minor": 0,
  "metadata": {
    "colab": {
      "name": "summ.ipynb",
      "version": "0.3.2",
      "views": {},
      "default_view": {},
      "provenance": []
    },
    "kernelspec": {
      "name": "python3",
      "display_name": "Python 3"
    },
    "accelerator": "GPU"
  },
  "cells": [
    {
      "metadata": {
        "id": "D0uLJJ88fHFb",
        "colab_type": "code",
        "colab": {
          "autoexec": {
            "startup": false,
            "wait_interval": 0
          }
        }
      },
      "cell_type": "code",
      "source": [
        "%matplotlib inline\n",
        "import math\n",
        "import numpy as np\n",
        "import os\n",
        "import random\n",
        "import tensorflow as tf\n",
        "from matplotlib import pylab\n",
        "from collections import Counter\n",
        "import csv\n",
        "\n",
        "# Seq2Seq Items\n",
        "import tensorflow.contrib.seq2seq as seq2seq\n",
        "from tensorflow.python.ops.rnn_cell import LSTMCell\n",
        "from tensorflow.python.ops.rnn_cell import MultiRNNCell\n",
        "from tensorflow.contrib.seq2seq.python.ops import attention_wrapper\n",
        "from tensorflow.python.layers.core import Dense\n",
        "import nltk"
      ],
      "execution_count": 0,
      "outputs": []
    },
    {
      "metadata": {
        "id": "bW7vozWUfH7d",
        "colab_type": "code",
        "colab": {
          "autoexec": {
            "startup": false,
            "wait_interval": 0
          }
        }
      },
      "cell_type": "code",
      "source": [
        "import csv\n",
        "import nltk as nlp\n",
        "from nltk import word_tokenize\n",
        "import string\n",
        "import nltk\n",
        "import re\n",
        "\n",
        "summaries = []\n",
        "texts = []\n",
        "\n",
        "def clean(text):\n",
        "    text = text.lower()\n",
        "    printable = set(string.printable)\n",
        "    return filter(lambda x: x in printable, text) #filter funny characters, if any. \n",
        "  \n",
        "def remove_html(text):\n",
        "  tag_re = re.compile(r'(<!--.*?-->|<[^>]*>)')\n",
        "  no_tags = tag_re.sub('', text)\n",
        "  return no_tags"
      ],
      "execution_count": 0,
      "outputs": []
    },
    {
      "metadata": {
        "id": "U1dL47bCg7Sa",
        "colab_type": "code",
        "colab": {
          "autoexec": {
            "startup": false,
            "wait_interval": 0
          },
          "output_extras": [
            {
              "item_id": 3
            },
            {
              "item_id": 4
            }
          ],
          "base_uri": "https://localhost:8080/",
          "height": 554
        },
        "outputId": "a05679e2-cd7b-48df-c795-833c27d841d5",
        "executionInfo": {
          "status": "error",
          "timestamp": 1522615096172,
          "user_tz": 240,
          "elapsed": 38229,
          "user": {
            "displayName": "Nikhil Badugu",
            "photoUrl": "https://lh3.googleusercontent.com/a/default-user=s128",
            "userId": "103304218297095716668"
          }
        }
      },
      "cell_type": "code",
      "source": [
        "!apt-get install -y -qq software-properties-common python-software-properties module-init-tools\n",
        "!add-apt-repository -y ppa:alessandro-strada/ppa 2>&1 > /dev/null\n",
        "!apt-get update -qq 2>&1 > /dev/null\n",
        "!apt-get -y install -qq google-drive-ocamlfuse fuse\n",
        "from google.colab import auth\n",
        "auth.authenticate_user()\n",
        "from oauth2client.client import GoogleCredentials\n",
        "creds = GoogleCredentials.get_application_default()\n",
        "import getpass\n",
        "!google-drive-ocamlfuse -headless -id={creds.client_id} -secret={creds.client_secret} < /dev/null 2>&1 | grep URL\n",
        "vcode = getpass.getpass()\n",
        "!echo {vcode} | google-drive-ocamlfuse -headless -id={creds.client_id} -secret={creds.client_secret}\n"
      ],
      "execution_count": 23,
      "outputs": [
        {
          "output_type": "stream",
          "text": [
            "gpg: keybox '/tmp/tmp7qc5fymv/pubring.gpg' created\n",
            "gpg: /tmp/tmp7qc5fymv/trustdb.gpg: trustdb created\n",
            "gpg: key AD5F235DF639B041: public key \"Launchpad PPA for Alessandro Strada\" imported\n",
            "gpg: Total number processed: 1\n",
            "gpg:               imported: 1\n",
            "Warning: apt-key output should not be parsed (stdout is not a terminal)\n"
          ],
          "name": "stdout"
        },
        {
          "output_type": "error",
          "ename": "KeyboardInterrupt",
          "evalue": "ignored",
          "traceback": [
            "\u001b[0;31m\u001b[0m",
            "\u001b[0;31mKeyboardInterrupt\u001b[0mTraceback (most recent call last)",
            "\u001b[0;32m<ipython-input-23-10e4f377fea7>\u001b[0m in \u001b[0;36m<module>\u001b[0;34m()\u001b[0m\n\u001b[1;32m      9\u001b[0m \u001b[0;32mimport\u001b[0m \u001b[0mgetpass\u001b[0m\u001b[0;34m\u001b[0m\u001b[0m\n\u001b[1;32m     10\u001b[0m \u001b[0mget_ipython\u001b[0m\u001b[0;34m(\u001b[0m\u001b[0;34m)\u001b[0m\u001b[0;34m.\u001b[0m\u001b[0msystem\u001b[0m\u001b[0;34m(\u001b[0m\u001b[0;34mu'google-drive-ocamlfuse -headless -id={creds.client_id} -secret={creds.client_secret} < /dev/null 2>&1 | grep URL'\u001b[0m\u001b[0;34m)\u001b[0m\u001b[0;34m\u001b[0m\u001b[0m\n\u001b[0;32m---> 11\u001b[0;31m \u001b[0mvcode\u001b[0m \u001b[0;34m=\u001b[0m \u001b[0mgetpass\u001b[0m\u001b[0;34m.\u001b[0m\u001b[0mgetpass\u001b[0m\u001b[0;34m(\u001b[0m\u001b[0;34m)\u001b[0m\u001b[0;34m\u001b[0m\u001b[0m\n\u001b[0m\u001b[1;32m     12\u001b[0m \u001b[0mget_ipython\u001b[0m\u001b[0;34m(\u001b[0m\u001b[0;34m)\u001b[0m\u001b[0;34m.\u001b[0m\u001b[0msystem\u001b[0m\u001b[0;34m(\u001b[0m\u001b[0;34mu'echo {vcode} | google-drive-ocamlfuse -headless -id={creds.client_id} -secret={creds.client_secret}'\u001b[0m\u001b[0;34m)\u001b[0m\u001b[0;34m\u001b[0m\u001b[0m\n",
            "\u001b[0;32m/usr/local/lib/python2.7/dist-packages/ipykernel/kernelbase.pyc\u001b[0m in \u001b[0;36mgetpass\u001b[0;34m(self, prompt, stream)\u001b[0m\n\u001b[1;32m    686\u001b[0m             \u001b[0mself\u001b[0m\u001b[0;34m.\u001b[0m\u001b[0m_parent_ident\u001b[0m\u001b[0;34m,\u001b[0m\u001b[0;34m\u001b[0m\u001b[0m\n\u001b[1;32m    687\u001b[0m             \u001b[0mself\u001b[0m\u001b[0;34m.\u001b[0m\u001b[0m_parent_header\u001b[0m\u001b[0;34m,\u001b[0m\u001b[0;34m\u001b[0m\u001b[0m\n\u001b[0;32m--> 688\u001b[0;31m             \u001b[0mpassword\u001b[0m\u001b[0;34m=\u001b[0m\u001b[0mTrue\u001b[0m\u001b[0;34m,\u001b[0m\u001b[0;34m\u001b[0m\u001b[0m\n\u001b[0m\u001b[1;32m    689\u001b[0m         )\n\u001b[1;32m    690\u001b[0m \u001b[0;34m\u001b[0m\u001b[0m\n",
            "\u001b[0;32m/usr/local/lib/python2.7/dist-packages/ipykernel/kernelbase.pyc\u001b[0m in \u001b[0;36m_input_request\u001b[0;34m(self, prompt, ident, parent, password)\u001b[0m\n\u001b[1;32m    733\u001b[0m             \u001b[0;32mexcept\u001b[0m \u001b[0mKeyboardInterrupt\u001b[0m\u001b[0;34m:\u001b[0m\u001b[0;34m\u001b[0m\u001b[0m\n\u001b[1;32m    734\u001b[0m                 \u001b[0;31m# re-raise KeyboardInterrupt, to truncate traceback\u001b[0m\u001b[0;34m\u001b[0m\u001b[0;34m\u001b[0m\u001b[0m\n\u001b[0;32m--> 735\u001b[0;31m                 \u001b[0;32mraise\u001b[0m \u001b[0mKeyboardInterrupt\u001b[0m\u001b[0;34m\u001b[0m\u001b[0m\n\u001b[0m\u001b[1;32m    736\u001b[0m             \u001b[0;32melse\u001b[0m\u001b[0;34m:\u001b[0m\u001b[0;34m\u001b[0m\u001b[0m\n\u001b[1;32m    737\u001b[0m                 \u001b[0;32mbreak\u001b[0m\u001b[0;34m\u001b[0m\u001b[0m\n",
            "\u001b[0;31mKeyboardInterrupt\u001b[0m: "
          ]
        }
      ]
    },
    {
      "metadata": {
        "id": "SR-zMjk0g9cx",
        "colab_type": "code",
        "colab": {
          "autoexec": {
            "startup": false,
            "wait_interval": 0
          },
          "output_extras": [
            {
              "item_id": 1
            }
          ],
          "base_uri": "https://localhost:8080/",
          "height": 51
        },
        "outputId": "9c5ee27f-17e1-4048-e436-2770cc30488f",
        "executionInfo": {
          "status": "ok",
          "timestamp": 1522615104229,
          "user_tz": 240,
          "elapsed": 3776,
          "user": {
            "displayName": "Nikhil Badugu",
            "photoUrl": "https://lh3.googleusercontent.com/a/default-user=s128",
            "userId": "103304218297095716668"
          }
        }
      },
      "cell_type": "code",
      "source": [
        "!mkdir -p drive\n",
        "!google-drive-ocamlfuse drive\n"
      ],
      "execution_count": 24,
      "outputs": [
        {
          "output_type": "stream",
          "text": [
            "fuse: mountpoint is not empty\r\n",
            "fuse: if you are sure this is safe, use the 'nonempty' mount option\r\n"
          ],
          "name": "stdout"
        }
      ]
    },
    {
      "metadata": {
        "id": "M4-UYFhKhSfo",
        "colab_type": "code",
        "colab": {
          "autoexec": {
            "startup": false,
            "wait_interval": 0
          },
          "output_extras": [
            {
              "item_id": 2
            },
            {
              "item_id": 3
            }
          ],
          "base_uri": "https://localhost:8080/",
          "height": 68
        },
        "outputId": "e6260935-d164-46c6-d54e-2175130096a3",
        "executionInfo": {
          "status": "ok",
          "timestamp": 1522623689767,
          "user_tz": 240,
          "elapsed": 1261,
          "user": {
            "displayName": "Nikhil Badugu",
            "photoUrl": "https://lh3.googleusercontent.com/a/default-user=s128",
            "userId": "103304218297095716668"
          }
        }
      },
      "cell_type": "code",
      "source": [
        "nltk.download('punkt')\n"
      ],
      "execution_count": 4,
      "outputs": [
        {
          "output_type": "stream",
          "text": [
            "[nltk_data] Downloading package punkt to /content/nltk_data...\n",
            "[nltk_data]   Unzipping tokenizers/punkt.zip.\n"
          ],
          "name": "stdout"
        },
        {
          "output_type": "execute_result",
          "data": {
            "text/plain": [
              "True"
            ]
          },
          "metadata": {
            "tags": []
          },
          "execution_count": 4
        }
      ]
    },
    {
      "metadata": {
        "id": "XIn9KVDmhYIa",
        "colab_type": "code",
        "colab": {
          "autoexec": {
            "startup": false,
            "wait_interval": 0
          }
        }
      },
      "cell_type": "code",
      "source": [
        ""
      ],
      "execution_count": 0,
      "outputs": []
    },
    {
      "metadata": {
        "id": "hRJp5T8c0D98",
        "colab_type": "code",
        "colab": {
          "autoexec": {
            "startup": false,
            "wait_interval": 0
          },
          "output_extras": [
            {
              "item_id": 1
            }
          ],
          "base_uri": "https://localhost:8080/",
          "height": 231
        },
        "outputId": "439f6009-7fe4-4634-97a8-044f03037efe",
        "executionInfo": {
          "status": "error",
          "timestamp": 1522623692436,
          "user_tz": 240,
          "elapsed": 589,
          "user": {
            "displayName": "Nikhil Badugu",
            "photoUrl": "https://lh3.googleusercontent.com/a/default-user=s128",
            "userId": "103304218297095716668"
          }
        }
      },
      "cell_type": "code",
      "source": [
        "\n",
        "n_summaries =[]\n",
        "n_texts = []\n",
        "with open('drive/Colab Notebooks/Tutorial/Data/Reviews.csv', 'rb') as csvfile: #Data from https://www.kaggle.com/snap/amazon-fine-food-reviews\n",
        "    Reviews = csv.DictReader(csvfile)\n",
        "    for row in Reviews:\n",
        "        clean_text = clean(row['Text'])\n",
        "        #new_text = remove_html(clean_text)\n",
        "        clean_summary = clean(row['Summary'])\n",
        "        #new_summary = remove_html(clean_summary)\n",
        "        n_summaries.append(word_tokenize(clean_summary))\n",
        "        n_texts.append(word_tokenize(clean_text))"
      ],
      "execution_count": 5,
      "outputs": [
        {
          "output_type": "error",
          "ename": "FileNotFoundError",
          "evalue": "ignored",
          "traceback": [
            "\u001b[0;31m---------------------------------------------------------------------------\u001b[0m",
            "\u001b[0;31mFileNotFoundError\u001b[0m                         Traceback (most recent call last)",
            "\u001b[0;32m<ipython-input-5-8430d68884be>\u001b[0m in \u001b[0;36m<module>\u001b[0;34m()\u001b[0m\n\u001b[1;32m      2\u001b[0m \u001b[0mn_summaries\u001b[0m \u001b[0;34m=\u001b[0m\u001b[0;34m[\u001b[0m\u001b[0;34m]\u001b[0m\u001b[0;34m\u001b[0m\u001b[0m\n\u001b[1;32m      3\u001b[0m \u001b[0mn_texts\u001b[0m \u001b[0;34m=\u001b[0m \u001b[0;34m[\u001b[0m\u001b[0;34m]\u001b[0m\u001b[0;34m\u001b[0m\u001b[0m\n\u001b[0;32m----> 4\u001b[0;31m \u001b[0;32mwith\u001b[0m \u001b[0mopen\u001b[0m\u001b[0;34m(\u001b[0m\u001b[0;34m'drive/Colab Notebooks/Tutorial/Data/Reviews.csv'\u001b[0m\u001b[0;34m,\u001b[0m \u001b[0;34m'rb'\u001b[0m\u001b[0;34m)\u001b[0m \u001b[0;32mas\u001b[0m \u001b[0mcsvfile\u001b[0m\u001b[0;34m:\u001b[0m \u001b[0;31m#Data from https://www.kaggle.com/snap/amazon-fine-food-reviews\u001b[0m\u001b[0;34m\u001b[0m\u001b[0m\n\u001b[0m\u001b[1;32m      5\u001b[0m     \u001b[0mReviews\u001b[0m \u001b[0;34m=\u001b[0m \u001b[0mcsv\u001b[0m\u001b[0;34m.\u001b[0m\u001b[0mDictReader\u001b[0m\u001b[0;34m(\u001b[0m\u001b[0mcsvfile\u001b[0m\u001b[0;34m)\u001b[0m\u001b[0;34m\u001b[0m\u001b[0m\n\u001b[1;32m      6\u001b[0m     \u001b[0;32mfor\u001b[0m \u001b[0mrow\u001b[0m \u001b[0;32min\u001b[0m \u001b[0mReviews\u001b[0m\u001b[0;34m:\u001b[0m\u001b[0;34m\u001b[0m\u001b[0m\n",
            "\u001b[0;31mFileNotFoundError\u001b[0m: [Errno 2] No such file or directory: 'drive/Colab Notebooks/Tutorial/Data/Reviews.csv'"
          ]
        }
      ]
    },
    {
      "metadata": {
        "id": "1-fu7PKuhmSU",
        "colab_type": "code",
        "colab": {
          "autoexec": {
            "startup": false,
            "wait_interval": 0
          }
        }
      },
      "cell_type": "code",
      "source": [
        "final_texts = []\n",
        "for i in range(len(texts)):\n",
        "  if i < 100:\n",
        "    final_texts.append(texts[i])\n",
        "  "
      ],
      "execution_count": 0,
      "outputs": []
    },
    {
      "metadata": {
        "id": "seyPcPpVjvV4",
        "colab_type": "code",
        "colab": {
          "autoexec": {
            "startup": false,
            "wait_interval": 0
          }
        }
      },
      "cell_type": "code",
      "source": [
        "final_summaries = []\n",
        "\n",
        "for i in range(len(summaries)):\n",
        "  if i < 100:\n",
        "    final_summaries.append(summaries[i])\n",
        "    \n",
        "    "
      ],
      "execution_count": 0,
      "outputs": []
    },
    {
      "metadata": {
        "id": "nYIJ35yY5TQg",
        "colab_type": "code",
        "colab": {
          "autoexec": {
            "startup": false,
            "wait_interval": 0
          }
        }
      },
      "cell_type": "code",
      "source": [
        ""
      ],
      "execution_count": 0,
      "outputs": []
    },
    {
      "metadata": {
        "id": "r54dj-uQ5TXx",
        "colab_type": "code",
        "colab": {
          "autoexec": {
            "startup": false,
            "wait_interval": 0
          },
          "output_extras": [
            {
              "item_id": 1
            }
          ],
          "base_uri": "https://localhost:8080/",
          "height": 34
        },
        "outputId": "49e61fc0-535a-4bdd-b31b-d68d5cbbfda6",
        "executionInfo": {
          "status": "ok",
          "timestamp": 1522611669251,
          "user_tz": 240,
          "elapsed": 468,
          "user": {
            "displayName": "Nikhil Badugu",
            "photoUrl": "https://lh3.googleusercontent.com/a/default-user=s128",
            "userId": "103304218297095716668"
          }
        }
      },
      "cell_type": "code",
      "source": [
        "len(final_summaries)"
      ],
      "execution_count": 18,
      "outputs": [
        {
          "output_type": "execute_result",
          "data": {
            "text/plain": [
              "0"
            ]
          },
          "metadata": {
            "tags": []
          },
          "execution_count": 18
        }
      ]
    },
    {
      "metadata": {
        "id": "6T8-E-jNZh5X",
        "colab_type": "code",
        "colab": {
          "autoexec": {
            "startup": false,
            "wait_interval": 0
          },
          "output_extras": [
            {}
          ],
          "base_uri": "https://localhost:8080/",
          "height": 224
        },
        "outputId": "be8722bd-856c-4771-8140-ec05d5512091",
        "executionInfo": {
          "status": "ok",
          "timestamp": 1522564278437,
          "user_tz": 240,
          "elapsed": 2689,
          "user": {
            "displayName": "Nikhil Badugu",
            "photoUrl": "https://lh3.googleusercontent.com/a/default-user=s128",
            "userId": "103304218297095716668"
          }
        }
      },
      "cell_type": "code",
      "source": [
        "!pip install simplejson"
      ],
      "execution_count": 0,
      "outputs": [
        {
          "output_type": "stream",
          "text": [
            "^C\r\n",
            "Traceback (most recent call last):\r\n",
            "  File \"/usr/bin/pip2\", line 9, in <module>\r\n",
            "    from pip import main\r\n",
            "  File \"/usr/lib/python2.7/dist-packages/pip/__init__.py\", line 21, in <module>\r\n",
            "    from pip._vendor.requests.packages.urllib3.exceptions import DependencyWarning\r\n",
            "  File \"/usr/lib/python2.7/dist-packages/pip/_vendor/__init__.py\", line 76, in <module>\r\n",
            "    vendored(\"pkg_resources\")\r\n",
            "  File \"/usr/lib/python2.7/dist-packages/pip/_vendor/__init__.py\", line 36, in vendored\r\n",
            "    __import__(modulename, globals(), locals(), level=0)\r\n",
            "  File \"/usr/share/python-wheels/pkg_resources-0.0.0-py2.py3-none-any.whl/pkg_resources/__init__.py\", line 16, in <module>\r\n",
            "KeyboardInterrupt\r\n"
          ],
          "name": "stdout"
        }
      ]
    },
    {
      "metadata": {
        "id": "jBR_xAa3ZfDf",
        "colab_type": "code",
        "colab": {
          "autoexec": {
            "startup": false,
            "wait_interval": 0
          }
        }
      },
      "cell_type": "code",
      "source": [
        "import simplejson\n"
      ],
      "execution_count": 0,
      "outputs": []
    },
    {
      "metadata": {
        "id": "bS1f0RtLZI6w",
        "colab_type": "code",
        "colab": {
          "autoexec": {
            "startup": false,
            "wait_interval": 0
          }
        }
      },
      "cell_type": "code",
      "source": [
        ""
      ],
      "execution_count": 0,
      "outputs": []
    },
    {
      "metadata": {
        "id": "yFwkeK7HkL0J",
        "colab_type": "code",
        "colab": {
          "autoexec": {
            "startup": false,
            "wait_interval": 0
          }
        }
      },
      "cell_type": "code",
      "source": [
        "vocab = set()\n",
        "for line in final_texts:\n",
        "  for token in line:\n",
        "    vocab.add(token)"
      ],
      "execution_count": 0,
      "outputs": []
    },
    {
      "metadata": {
        "id": "29q0XIhEkbJ5",
        "colab_type": "code",
        "colab": {
          "autoexec": {
            "startup": false,
            "wait_interval": 0
          }
        }
      },
      "cell_type": "code",
      "source": [
        "count_dictionary = {} \n",
        "\n",
        "for line in final_texts:\n",
        "  for token in line:\n",
        "    if token not in count_dictionary:\n",
        "      count_dictionary[token] = 1\n",
        "    else:\n",
        "      count_dictionary[token] += 1"
      ],
      "execution_count": 0,
      "outputs": []
    },
    {
      "metadata": {
        "id": "p7e7RVnrrupk",
        "colab_type": "code",
        "colab": {
          "autoexec": {
            "startup": false,
            "wait_interval": 0
          }
        }
      },
      "cell_type": "code",
      "source": [
        ""
      ],
      "execution_count": 0,
      "outputs": []
    },
    {
      "metadata": {
        "id": "YxBhLyqskiBW",
        "colab_type": "code",
        "colab": {
          "autoexec": {
            "startup": false,
            "wait_interval": 0
          }
        }
      },
      "cell_type": "code",
      "source": [
        "target_count_dictionary = {}\n",
        "\n",
        "for line in final_summaries:\n",
        "  for token in line:\n",
        "    if token not in target_count_dictionary:\n",
        "      target_count_dictionary[token] = 1\n",
        "    else:\n",
        "      target_count_dictionary[token] += 1\n",
        "      "
      ],
      "execution_count": 0,
      "outputs": []
    },
    {
      "metadata": {
        "id": "MTQfjscvlVOM",
        "colab_type": "code",
        "colab": {
          "autoexec": {
            "startup": false,
            "wait_interval": 0
          },
          "output_extras": [
            {
              "item_id": 1
            }
          ],
          "base_uri": "https://localhost:8080/",
          "height": 231
        },
        "outputId": "9c3c2da5-a5a6-4aca-d532-6ad0de393c4c",
        "executionInfo": {
          "status": "error",
          "timestamp": 1522623261035,
          "user_tz": 240,
          "elapsed": 251,
          "user": {
            "displayName": "Nikhil Badugu",
            "photoUrl": "https://lh3.googleusercontent.com/a/default-user=s128",
            "userId": "103304218297095716668"
          }
        }
      },
      "cell_type": "code",
      "source": [
        "source_sents = []\n",
        "target_sents = []\n",
        "\n",
        "for line in final_texts:\n",
        "  new_line = []\n",
        "  new_line.append(\"<s>\")\n",
        "  for token in line:\n",
        "    if count_dictionary[token] < 2:\n",
        "      word = \"<UNK>\"\n",
        "    else:\n",
        "      word = token\n",
        "    new_line.append(word)\n",
        "  new_line.append(\"</s>\")\n",
        "  source_sents.append(new_line)\n",
        "  \n",
        "for line in final_summaries:\n",
        "  new_line = []\n",
        "  new_line.append(\"<s>\")\n",
        "  for token in line:\n",
        "    if target_count_dictionary[token] < 2:\n",
        "      word = \"<UNK>\"\n",
        "    else:\n",
        "      word = token\n",
        "    new_line.append(word)\n",
        "  new_line.append(\"</s>\")\n",
        "  target_sents.append(new_line)"
      ],
      "execution_count": 3,
      "outputs": [
        {
          "output_type": "error",
          "ename": "NameError",
          "evalue": "ignored",
          "traceback": [
            "\u001b[0;31m\u001b[0m",
            "\u001b[0;31mNameError\u001b[0mTraceback (most recent call last)",
            "\u001b[0;32m<ipython-input-3-7a7560ed4502>\u001b[0m in \u001b[0;36m<module>\u001b[0;34m()\u001b[0m\n\u001b[1;32m      2\u001b[0m \u001b[0mtarget_sents\u001b[0m \u001b[0;34m=\u001b[0m \u001b[0;34m[\u001b[0m\u001b[0;34m]\u001b[0m\u001b[0;34m\u001b[0m\u001b[0m\n\u001b[1;32m      3\u001b[0m \u001b[0;34m\u001b[0m\u001b[0m\n\u001b[0;32m----> 4\u001b[0;31m \u001b[0;32mfor\u001b[0m \u001b[0mline\u001b[0m \u001b[0;32min\u001b[0m \u001b[0mfinal_texts\u001b[0m\u001b[0;34m:\u001b[0m\u001b[0;34m\u001b[0m\u001b[0m\n\u001b[0m\u001b[1;32m      5\u001b[0m   \u001b[0mnew_line\u001b[0m \u001b[0;34m=\u001b[0m \u001b[0;34m[\u001b[0m\u001b[0;34m]\u001b[0m\u001b[0;34m\u001b[0m\u001b[0m\n\u001b[1;32m      6\u001b[0m   \u001b[0mnew_line\u001b[0m\u001b[0;34m.\u001b[0m\u001b[0mappend\u001b[0m\u001b[0;34m(\u001b[0m\u001b[0;34m\"<s>\"\u001b[0m\u001b[0;34m)\u001b[0m\u001b[0;34m\u001b[0m\u001b[0m\n",
            "\u001b[0;31mNameError\u001b[0m: name 'final_texts' is not defined"
          ]
        }
      ]
    },
    {
      "metadata": {
        "id": "bdDiFu6gZ3dK",
        "colab_type": "code",
        "colab": {
          "autoexec": {
            "startup": false,
            "wait_interval": 0
          },
          "output_extras": [
            {}
          ],
          "base_uri": "https://localhost:8080/",
          "height": 341
        },
        "outputId": "83ae5424-c283-4eef-8e6c-ed9a045b1422",
        "executionInfo": {
          "status": "error",
          "timestamp": 1522564463924,
          "user_tz": 240,
          "elapsed": 1012,
          "user": {
            "displayName": "Nikhil Badugu",
            "photoUrl": "https://lh3.googleusercontent.com/a/default-user=s128",
            "userId": "103304218297095716668"
          }
        }
      },
      "cell_type": "code",
      "source": [
        "# with open(\"drive/Colab Notebooks/Summarization/source.txt\", \"w\") as fp:\n",
        "#   simplejson.dump(source_sents, fp)\n",
        "  "
      ],
      "execution_count": 0,
      "outputs": [
        {
          "output_type": "error",
          "ename": "KeyboardInterrupt",
          "evalue": "ignored",
          "traceback": [
            "\u001b[0;31m\u001b[0m",
            "\u001b[0;31mKeyboardInterrupt\u001b[0mTraceback (most recent call last)",
            "\u001b[0;32m<ipython-input-336-b9fc16195dec>\u001b[0m in \u001b[0;36m<module>\u001b[0;34m()\u001b[0m\n\u001b[1;32m      1\u001b[0m \u001b[0;32mwith\u001b[0m \u001b[0mopen\u001b[0m\u001b[0;34m(\u001b[0m\u001b[0;34m\"drive/Colab Notebooks/Summarization/source.txt\"\u001b[0m\u001b[0;34m,\u001b[0m \u001b[0;34m\"w\"\u001b[0m\u001b[0;34m)\u001b[0m \u001b[0;32mas\u001b[0m \u001b[0mfp\u001b[0m\u001b[0;34m:\u001b[0m\u001b[0;34m\u001b[0m\u001b[0m\n\u001b[0;32m----> 2\u001b[0;31m   \u001b[0msimplejson\u001b[0m\u001b[0;34m.\u001b[0m\u001b[0mdump\u001b[0m\u001b[0;34m(\u001b[0m\u001b[0msource_sents\u001b[0m\u001b[0;34m,\u001b[0m \u001b[0mfp\u001b[0m\u001b[0;34m)\u001b[0m\u001b[0;34m\u001b[0m\u001b[0m\n\u001b[0m\u001b[1;32m      3\u001b[0m \u001b[0;34m\u001b[0m\u001b[0m\n",
            "\u001b[0;32m/usr/local/lib/python2.7/dist-packages/simplejson/__init__.pyc\u001b[0m in \u001b[0;36mdump\u001b[0;34m(obj, fp, skipkeys, ensure_ascii, check_circular, allow_nan, cls, indent, separators, encoding, default, use_decimal, namedtuple_as_object, tuple_as_array, bigint_as_string, sort_keys, item_sort_key, for_json, ignore_nan, int_as_string_bitcount, iterable_as_array, **kw)\u001b[0m\n\u001b[1;32m    277\u001b[0m     \u001b[0;31m# a debuggability cost\u001b[0m\u001b[0;34m\u001b[0m\u001b[0;34m\u001b[0m\u001b[0m\n\u001b[1;32m    278\u001b[0m     \u001b[0;32mfor\u001b[0m \u001b[0mchunk\u001b[0m \u001b[0;32min\u001b[0m \u001b[0miterable\u001b[0m\u001b[0;34m:\u001b[0m\u001b[0;34m\u001b[0m\u001b[0m\n\u001b[0;32m--> 279\u001b[0;31m         \u001b[0mfp\u001b[0m\u001b[0;34m.\u001b[0m\u001b[0mwrite\u001b[0m\u001b[0;34m(\u001b[0m\u001b[0mchunk\u001b[0m\u001b[0;34m)\u001b[0m\u001b[0;34m\u001b[0m\u001b[0m\n\u001b[0m\u001b[1;32m    280\u001b[0m \u001b[0;34m\u001b[0m\u001b[0m\n\u001b[1;32m    281\u001b[0m \u001b[0;34m\u001b[0m\u001b[0m\n",
            "\u001b[0;31mKeyboardInterrupt\u001b[0m: "
          ]
        }
      ]
    },
    {
      "metadata": {
        "id": "LkFlCuoHZ8zV",
        "colab_type": "code",
        "colab": {
          "autoexec": {
            "startup": false,
            "wait_interval": 0
          }
        }
      },
      "cell_type": "code",
      "source": [
        "# with open(\"drive/Colab Notebooks/Summarization/target.txt\", \"w\") as fp:\n",
        "#   simplejson.dump(target_sents, fp)\n",
        "  "
      ],
      "execution_count": 0,
      "outputs": []
    },
    {
      "metadata": {
        "id": "BW3IwdivldV_",
        "colab_type": "code",
        "colab": {
          "autoexec": {
            "startup": false,
            "wait_interval": 0
          },
          "output_extras": [
            {
              "item_id": 1
            }
          ],
          "base_uri": "https://localhost:8080/",
          "height": 231
        },
        "outputId": "99ded2a0-c6b0-4bf0-a5de-e4c04cf8d5ee",
        "executionInfo": {
          "status": "error",
          "timestamp": 1522623254519,
          "user_tz": 240,
          "elapsed": 247,
          "user": {
            "displayName": "Nikhil Badugu",
            "photoUrl": "https://lh3.googleusercontent.com/a/default-user=s128",
            "userId": "103304218297095716668"
          }
        }
      },
      "cell_type": "code",
      "source": [
        "src_dictionary = {}\n",
        "\n",
        "index = 0\n",
        "\n",
        "for line in source_sents:\n",
        "  for token in line:\n",
        "    if token not in src_dictionary:\n",
        "      src_dictionary[token] = index\n",
        "      index += 1\n",
        "    else:\n",
        "      pass\n"
      ],
      "execution_count": 2,
      "outputs": [
        {
          "output_type": "error",
          "ename": "NameError",
          "evalue": "ignored",
          "traceback": [
            "\u001b[0;31m\u001b[0m",
            "\u001b[0;31mNameError\u001b[0mTraceback (most recent call last)",
            "\u001b[0;32m<ipython-input-2-4ca388893e03>\u001b[0m in \u001b[0;36m<module>\u001b[0;34m()\u001b[0m\n\u001b[1;32m      3\u001b[0m \u001b[0mindex\u001b[0m \u001b[0;34m=\u001b[0m \u001b[0;36m0\u001b[0m\u001b[0;34m\u001b[0m\u001b[0m\n\u001b[1;32m      4\u001b[0m \u001b[0;34m\u001b[0m\u001b[0m\n\u001b[0;32m----> 5\u001b[0;31m \u001b[0;32mfor\u001b[0m \u001b[0mline\u001b[0m \u001b[0;32min\u001b[0m \u001b[0msource_sents\u001b[0m\u001b[0;34m:\u001b[0m\u001b[0;34m\u001b[0m\u001b[0m\n\u001b[0m\u001b[1;32m      6\u001b[0m   \u001b[0;32mfor\u001b[0m \u001b[0mtoken\u001b[0m \u001b[0;32min\u001b[0m \u001b[0mline\u001b[0m\u001b[0;34m:\u001b[0m\u001b[0;34m\u001b[0m\u001b[0m\n\u001b[1;32m      7\u001b[0m     \u001b[0;32mif\u001b[0m \u001b[0mtoken\u001b[0m \u001b[0;32mnot\u001b[0m \u001b[0;32min\u001b[0m \u001b[0msrc_dictionary\u001b[0m\u001b[0;34m:\u001b[0m\u001b[0;34m\u001b[0m\u001b[0m\n",
            "\u001b[0;31mNameError\u001b[0m: name 'source_sents' is not defined"
          ]
        }
      ]
    },
    {
      "metadata": {
        "id": "iw7gEjoXltqv",
        "colab_type": "code",
        "colab": {
          "autoexec": {
            "startup": false,
            "wait_interval": 0
          }
        }
      },
      "cell_type": "code",
      "source": [
        "tgt_dictionary = {}\n",
        "\n",
        "index = 0\n",
        "for line in target_sents:\n",
        "  for token in line:\n",
        "    if token not in tgt_dictionary:\n",
        "      tgt_dictionary[token] = index\n",
        "      index += 1\n",
        "    else:\n",
        "      pass\n",
        "    "
      ],
      "execution_count": 0,
      "outputs": []
    },
    {
      "metadata": {
        "id": "3BsdqvUtl6wL",
        "colab_type": "code",
        "colab": {
          "autoexec": {
            "startup": false,
            "wait_interval": 0
          }
        }
      },
      "cell_type": "code",
      "source": [
        "src_reverse_dictionary = dict(zip(src_dictionary.values(),src_dictionary.keys()))\n"
      ],
      "execution_count": 0,
      "outputs": []
    },
    {
      "metadata": {
        "id": "y60G7KH7mI9v",
        "colab_type": "code",
        "colab": {
          "autoexec": {
            "startup": false,
            "wait_interval": 0
          }
        }
      },
      "cell_type": "code",
      "source": [
        "tgt_reverse_dictionary = dict(zip(tgt_dictionary.values(),src_dictionary.keys()))\n"
      ],
      "execution_count": 0,
      "outputs": []
    },
    {
      "metadata": {
        "id": "DdCkIuZrmiJm",
        "colab_type": "code",
        "colab": {
          "autoexec": {
            "startup": false,
            "wait_interval": 0
          },
          "output_extras": [
            {}
          ],
          "base_uri": "https://localhost:8080/",
          "height": 34
        },
        "outputId": "982ee0fc-613e-442f-cfb7-cb736dd89f39",
        "executionInfo": {
          "status": "ok",
          "timestamp": 1522564472222,
          "user_tz": 240,
          "elapsed": 305,
          "user": {
            "displayName": "Nikhil Badugu",
            "photoUrl": "https://lh3.googleusercontent.com/a/default-user=s128",
            "userId": "103304218297095716668"
          }
        }
      },
      "cell_type": "code",
      "source": [
        "len(src_dictionary)"
      ],
      "execution_count": 0,
      "outputs": [
        {
          "output_type": "execute_result",
          "data": {
            "text/plain": [
              "668"
            ]
          },
          "metadata": {
            "tags": []
          },
          "execution_count": 341
        }
      ]
    },
    {
      "metadata": {
        "id": "adyfTR2amkph",
        "colab_type": "code",
        "colab": {
          "autoexec": {
            "startup": false,
            "wait_interval": 0
          }
        }
      },
      "cell_type": "code",
      "source": [
        "# np.savetxt('drive/Colab Notebooks/Summarization/source.txt', source_sents, delimiter='\\n', fmt=\"%s\")"
      ],
      "execution_count": 0,
      "outputs": []
    },
    {
      "metadata": {
        "id": "3rftMJJpm-qP",
        "colab_type": "code",
        "colab": {
          "autoexec": {
            "startup": false,
            "wait_interval": 0
          }
        }
      },
      "cell_type": "code",
      "source": [
        "# np.savetxt('drive/Colab Notebooks/Summarization/target.txt', target_sents, delimiter='\\n', fmt=\"%s\")"
      ],
      "execution_count": 0,
      "outputs": []
    },
    {
      "metadata": {
        "id": "aqtFiiRdnK6q",
        "colab_type": "code",
        "colab": {
          "autoexec": {
            "startup": false,
            "wait_interval": 0
          }
        }
      },
      "cell_type": "code",
      "source": [
        "# np.save(\"drive/Colab Notebooks/Summarization/source_dict.npy\", src_dictionary)\n",
        "# np.save(\"drive/Colab Notebooks/Summarization/source_reverse_dict.npy\", src_reverse_dictionary)\n",
        "# np.save(\"drive/Colab Notebooks/Summarization/target_dict.npy\", tgt_dictionary)\n",
        "# np.save(\"drive/Colab Notebooks/Summarization/target_reverse_dict.npy\", tgt_reverse_dictionary)\n"
      ],
      "execution_count": 0,
      "outputs": []
    },
    {
      "metadata": {
        "id": "MWkE4_-8pBX4",
        "colab_type": "code",
        "colab": {
          "autoexec": {
            "startup": false,
            "wait_interval": 0
          },
          "output_extras": [
            {}
          ],
          "base_uri": "https://localhost:8080/",
          "height": 417
        },
        "outputId": "52063e81-ce95-4f68-e9dd-c68c80effe7a",
        "executionInfo": {
          "status": "ok",
          "timestamp": 1522563491568,
          "user_tz": 240,
          "elapsed": 7648,
          "user": {
            "displayName": "Nikhil Badugu",
            "photoUrl": "https://lh3.googleusercontent.com/a/default-user=s128",
            "userId": "103304218297095716668"
          }
        }
      },
      "cell_type": "code",
      "source": [
        "!pip2 install gensim"
      ],
      "execution_count": 0,
      "outputs": [
        {
          "output_type": "stream",
          "text": [
            "Collecting gensim\n",
            "  Using cached gensim-3.4.0-cp27-cp27mu-manylinux1_x86_64.whl\n",
            "Collecting smart-open>=1.2.1 (from gensim)\n",
            "Requirement already satisfied: six>=1.5.0 in /usr/local/lib/python2.7/dist-packages (from gensim)\n",
            "Requirement already satisfied: scipy>=0.18.1 in /usr/local/lib/python2.7/dist-packages (from gensim)\n",
            "Requirement already satisfied: numpy>=1.11.3 in /usr/local/lib/python2.7/dist-packages (from gensim)\n",
            "Collecting bz2file (from smart-open>=1.2.1->gensim)\n",
            "Requirement already satisfied: boto>=2.32 in /usr/local/lib/python2.7/dist-packages (from smart-open>=1.2.1->gensim)\n",
            "Requirement already satisfied: requests in /usr/local/lib/python2.7/dist-packages (from smart-open>=1.2.1->gensim)\n",
            "Requirement already satisfied: boto3 in /usr/local/lib/python2.7/dist-packages (from smart-open>=1.2.1->gensim)\n",
            "Requirement already satisfied: idna<2.7,>=2.5 in /usr/local/lib/python2.7/dist-packages (from requests->smart-open>=1.2.1->gensim)\n",
            "Requirement already satisfied: urllib3<1.23,>=1.21.1 in /usr/local/lib/python2.7/dist-packages (from requests->smart-open>=1.2.1->gensim)\n",
            "Requirement already satisfied: certifi>=2017.4.17 in /usr/local/lib/python2.7/dist-packages (from requests->smart-open>=1.2.1->gensim)\n",
            "Requirement already satisfied: chardet<3.1.0,>=3.0.2 in /usr/local/lib/python2.7/dist-packages (from requests->smart-open>=1.2.1->gensim)\n",
            "Requirement already satisfied: jmespath<1.0.0,>=0.7.1 in /usr/local/lib/python2.7/dist-packages (from boto3->smart-open>=1.2.1->gensim)\n",
            "Requirement already satisfied: botocore<1.10.0,>=1.9.21 in /usr/local/lib/python2.7/dist-packages (from boto3->smart-open>=1.2.1->gensim)\n",
            "Requirement already satisfied: s3transfer<0.2.0,>=0.1.10 in /usr/local/lib/python2.7/dist-packages (from boto3->smart-open>=1.2.1->gensim)\n",
            "Requirement already satisfied: python-dateutil<2.7.0,>=2.1 in /usr/local/lib/python2.7/dist-packages (from botocore<1.10.0,>=1.9.21->boto3->smart-open>=1.2.1->gensim)\n",
            "Requirement already satisfied: docutils>=0.10 in /usr/local/lib/python2.7/dist-packages (from botocore<1.10.0,>=1.9.21->boto3->smart-open>=1.2.1->gensim)\n",
            "Requirement already satisfied: futures<4.0.0,>=2.2.0; python_version == \"2.6\" or python_version == \"2.7\" in /usr/local/lib/python2.7/dist-packages (from s3transfer<0.2.0,>=0.1.10->boto3->smart-open>=1.2.1->gensim)\n",
            "Installing collected packages: bz2file, smart-open, gensim\n",
            "Successfully installed bz2file-0.98 gensim-3.4.0 smart-open-1.5.7\n"
          ],
          "name": "stdout"
        }
      ]
    },
    {
      "metadata": {
        "id": "wF2Hgikvwkfc",
        "colab_type": "code",
        "colab": {
          "autoexec": {
            "startup": false,
            "wait_interval": 0
          }
        }
      },
      "cell_type": "code",
      "source": [
        "import gensim\n",
        "from gensim.models import word2vec"
      ],
      "execution_count": 0,
      "outputs": []
    },
    {
      "metadata": {
        "id": "B3oc6NIAwpo_",
        "colab_type": "code",
        "colab": {
          "autoexec": {
            "startup": false,
            "wait_interval": 0
          }
        }
      },
      "cell_type": "code",
      "source": [
        "all_sentences = []\n",
        "\n",
        "for line in source_sents:\n",
        "  all_sentences.append(line)\n",
        "\n",
        "for line in target_sents:\n",
        "  all_sentences.append(line)"
      ],
      "execution_count": 0,
      "outputs": []
    },
    {
      "metadata": {
        "id": "nkWByyeGwtDR",
        "colab_type": "code",
        "colab": {
          "autoexec": {
            "startup": false,
            "wait_interval": 0
          },
          "output_extras": [
            {}
          ],
          "base_uri": "https://localhost:8080/",
          "height": 34
        },
        "outputId": "afdafb41-90bf-4a52-8566-ea2d01da4c86",
        "executionInfo": {
          "status": "ok",
          "timestamp": 1522564480973,
          "user_tz": 240,
          "elapsed": 297,
          "user": {
            "displayName": "Nikhil Badugu",
            "photoUrl": "https://lh3.googleusercontent.com/a/default-user=s128",
            "userId": "103304218297095716668"
          }
        }
      },
      "cell_type": "code",
      "source": [
        "len(all_sentences)"
      ],
      "execution_count": 0,
      "outputs": [
        {
          "output_type": "execute_result",
          "data": {
            "text/plain": [
              "200"
            ]
          },
          "metadata": {
            "tags": []
          },
          "execution_count": 343
        }
      ]
    },
    {
      "metadata": {
        "id": "VcI8HZpiwt8n",
        "colab_type": "code",
        "colab": {
          "autoexec": {
            "startup": false,
            "wait_interval": 0
          }
        }
      },
      "cell_type": "code",
      "source": [
        "model = word2vec.Word2Vec(all_sentences, iter=20, min_count=2, size=128, workers=4)\n"
      ],
      "execution_count": 0,
      "outputs": []
    },
    {
      "metadata": {
        "id": "5lDPnWSqw0-i",
        "colab_type": "code",
        "colab": {
          "autoexec": {
            "startup": false,
            "wait_interval": 0
          }
        }
      },
      "cell_type": "code",
      "source": [
        "def create_embedding_matrix(model):\n",
        "   # convert the wv word vectors into a numpy matrix that is suitable for insertion\n",
        "   # into our TensorFlow and Keras models\n",
        "   embedding_matrix = np.zeros((len(model.wv.vocab), 128), dtype=np.float32)\n",
        "   for i in range(len(model.wv.vocab)):\n",
        "       embedding_vector = model.wv[model.wv.index2word[i]]\n",
        "       if embedding_vector is not None:\n",
        "           embedding_matrix[i] = embedding_vector\n",
        "   return embedding_matrix"
      ],
      "execution_count": 0,
      "outputs": []
    },
    {
      "metadata": {
        "id": "wmls720MxVWY",
        "colab_type": "code",
        "colab": {
          "autoexec": {
            "startup": false,
            "wait_interval": 0
          }
        }
      },
      "cell_type": "code",
      "source": [
        "embedding_matrix = create_embedding_matrix(model)\n",
        "#embedding_matrix = np.load(\"drive/Colab Notebooks/Summarization/embedding_matrix.npy\")"
      ],
      "execution_count": 0,
      "outputs": []
    },
    {
      "metadata": {
        "id": "CEUV_iAIxXzL",
        "colab_type": "code",
        "colab": {
          "autoexec": {
            "startup": false,
            "wait_interval": 0
          },
          "output_extras": [
            {}
          ],
          "base_uri": "https://localhost:8080/",
          "height": 34
        },
        "outputId": "55ad9923-5bf6-4733-ffac-d7e74b8ceb24",
        "executionInfo": {
          "status": "ok",
          "timestamp": 1522564493655,
          "user_tz": 240,
          "elapsed": 298,
          "user": {
            "displayName": "Nikhil Badugu",
            "photoUrl": "https://lh3.googleusercontent.com/a/default-user=s128",
            "userId": "103304218297095716668"
          }
        }
      },
      "cell_type": "code",
      "source": [
        "embedding_matrix.shape"
      ],
      "execution_count": 0,
      "outputs": [
        {
          "output_type": "execute_result",
          "data": {
            "text/plain": [
              "(673, 128)"
            ]
          },
          "metadata": {
            "tags": []
          },
          "execution_count": 347
        }
      ]
    },
    {
      "metadata": {
        "id": "Izgz6bT_xZpl",
        "colab_type": "code",
        "colab": {
          "autoexec": {
            "startup": false,
            "wait_interval": 0
          }
        }
      },
      "cell_type": "code",
      "source": [
        "# np.save(\"drive/Colab Notebooks/Summarization/embedding_matrix.npy\", embedding_matrix)"
      ],
      "execution_count": 0,
      "outputs": []
    },
    {
      "metadata": {
        "id": "FQDak8OWxoS2",
        "colab_type": "code",
        "colab": {
          "autoexec": {
            "startup": false,
            "wait_interval": 0
          }
        }
      },
      "cell_type": "code",
      "source": [
        "NUM_EPOCS = 2\n",
        "RNN_STATE_DIM = 512\n",
        "RNN_NUM_LAYERS = 2\n",
        "ENCODER_EMBEDDING_DIM = DECODER_EMBEDDING_DIM = 128\n",
        " \n",
        "BATCH_SIZE = int(32)\n",
        "LEARNING_RATE = 0.0003\n",
        " \n",
        "INPUT_NUM_VOCAB = len(src_dictionary)\n",
        "OUTPUT_NUM_VOCAB = len(tgt_dictionary)"
      ],
      "execution_count": 0,
      "outputs": []
    },
    {
      "metadata": {
        "id": "pduIJk1P3b5h",
        "colab_type": "code",
        "colab": {
          "autoexec": {
            "startup": false,
            "wait_interval": 0
          },
          "output_extras": [
            {}
          ],
          "base_uri": "https://localhost:8080/",
          "height": 812
        },
        "outputId": "5a0dbd28-9517-4827-b417-b3bf6754975e",
        "executionInfo": {
          "status": "ok",
          "timestamp": 1522563689031,
          "user_tz": 240,
          "elapsed": 503,
          "user": {
            "displayName": "Nikhil Badugu",
            "photoUrl": "https://lh3.googleusercontent.com/a/default-user=s128",
            "userId": "103304218297095716668"
          }
        }
      },
      "cell_type": "code",
      "source": [
        "source_sents.pop(539)\n",
        "target_sents.pop(539)"
      ],
      "execution_count": 0,
      "outputs": [
        {
          "output_type": "execute_result",
          "data": {
            "text/plain": [
              "['<s>',\n",
              " '<UNK>',\n",
              " '<UNK>',\n",
              " 'i',\n",
              " '<UNK>',\n",
              " '...',\n",
              " '<UNK>',\n",
              " '<UNK>',\n",
              " 'i',\n",
              " '<UNK>',\n",
              " '...',\n",
              " '<UNK>',\n",
              " 'o',\n",
              " 'o',\n",
              " 'r',\n",
              " 'a',\n",
              " '<UNK>',\n",
              " '...',\n",
              " '.',\n",
              " '!',\n",
              " '!',\n",
              " '!',\n",
              " '!',\n",
              " '!',\n",
              " ':',\n",
              " ')',\n",
              " '(',\n",
              " 'b',\n",
              " 'a',\n",
              " '<UNK>',\n",
              " 'k',\n",
              " '<UNK>',\n",
              " 'a',\n",
              " 'r',\n",
              " '<UNK>',\n",
              " '...',\n",
              " '<UNK>',\n",
              " 'a',\n",
              " 'r',\n",
              " 'b',\n",
              " '<UNK>',\n",
              " '<UNK>',\n",
              " '<UNK>',\n",
              " '<UNK>',\n",
              " ')',\n",
              " '</s>']"
            ]
          },
          "metadata": {
            "tags": []
          },
          "execution_count": 221
        }
      ]
    },
    {
      "metadata": {
        "id": "Mqi4CwvJxz9K",
        "colab_type": "code",
        "colab": {
          "autoexec": {
            "startup": false,
            "wait_interval": 0
          }
        }
      },
      "cell_type": "code",
      "source": [
        "length = []\n",
        "for line in source_sents:\n",
        "  length.append(len(line))\n",
        "  \n",
        "max_length_source = max(length)"
      ],
      "execution_count": 0,
      "outputs": []
    },
    {
      "metadata": {
        "id": "MgxXt1r4x2cq",
        "colab_type": "code",
        "colab": {
          "autoexec": {
            "startup": false,
            "wait_interval": 0
          },
          "output_extras": [
            {}
          ],
          "base_uri": "https://localhost:8080/",
          "height": 34
        },
        "outputId": "94063d84-3436-4c9c-b93c-6368a8ca1bb5",
        "executionInfo": {
          "status": "ok",
          "timestamp": 1522564501479,
          "user_tz": 240,
          "elapsed": 313,
          "user": {
            "displayName": "Nikhil Badugu",
            "photoUrl": "https://lh3.googleusercontent.com/a/default-user=s128",
            "userId": "103304218297095716668"
          }
        }
      },
      "cell_type": "code",
      "source": [
        "max_length_source"
      ],
      "execution_count": 0,
      "outputs": [
        {
          "output_type": "execute_result",
          "data": {
            "text/plain": [
              "472"
            ]
          },
          "metadata": {
            "tags": []
          },
          "execution_count": 349
        }
      ]
    },
    {
      "metadata": {
        "id": "944ARiCox3bi",
        "colab_type": "code",
        "colab": {
          "autoexec": {
            "startup": false,
            "wait_interval": 0
          },
          "output_extras": [
            {},
            {}
          ],
          "base_uri": "https://localhost:8080/",
          "height": 4508
        },
        "outputId": "39c01ad5-0513-4b2b-c33f-7bf88eeae1d6",
        "executionInfo": {
          "status": "ok",
          "timestamp": 1522564502867,
          "user_tz": 240,
          "elapsed": 305,
          "user": {
            "displayName": "Nikhil Badugu",
            "photoUrl": "https://lh3.googleusercontent.com/a/default-user=s128",
            "userId": "103304218297095716668"
          }
        }
      },
      "cell_type": "code",
      "source": [
        "length = []\n",
        "for line in target_sents:\n",
        "  length.append(len(line))\n",
        "  \n",
        "max_length_target = max(length)\n",
        "\n",
        "\n",
        "print(max_length_target)\n",
        "\n",
        "target_sents"
      ],
      "execution_count": 0,
      "outputs": [
        {
          "output_type": "stream",
          "text": [
            "15\n"
          ],
          "name": "stdout"
        },
        {
          "output_type": "execute_result",
          "data": {
            "text/plain": [
              "[['<s>', 'good', '<UNK>', 'dog', 'food', '</s>'],\n",
              " ['<s>', 'not', 'as', '<UNK>', '</s>'],\n",
              " ['<s>', '``', '<UNK>', \"''\", '<UNK>', 'it', '<UNK>', '</s>'],\n",
              " ['<s>', '<UNK>', '<UNK>', '</s>'],\n",
              " ['<s>', 'great', 'taffy', '</s>'],\n",
              " ['<s>', '<UNK>', 'taffy', '</s>'],\n",
              " ['<s>',\n",
              "  'great',\n",
              "  '!',\n",
              "  'just',\n",
              "  'as',\n",
              "  'good',\n",
              "  'as',\n",
              "  'the',\n",
              "  'expensive',\n",
              "  'brands',\n",
              "  '!',\n",
              "  '</s>'],\n",
              " ['<s>', '<UNK>', ',', '<UNK>', 'taffy', '</s>'],\n",
              " ['<s>', '<UNK>', '<UNK>', '</s>'],\n",
              " ['<s>', 'healthy', 'dog', 'food', '</s>'],\n",
              " ['<s>', 'the', 'best', 'hot', 'sauce', 'in', 'the', 'world', '</s>'],\n",
              " ['<s>',\n",
              "  'my',\n",
              "  'cats',\n",
              "  'love',\n",
              "  'this',\n",
              "  '``',\n",
              "  '<UNK>',\n",
              "  \"''\",\n",
              "  'food',\n",
              "  'better',\n",
              "  '<UNK>',\n",
              "  '<UNK>',\n",
              "  '<UNK>',\n",
              "  'food',\n",
              "  '</s>'],\n",
              " ['<s>',\n",
              "  'my',\n",
              "  'cats',\n",
              "  '<UNK>',\n",
              "  'not',\n",
              "  '<UNK>',\n",
              "  'of',\n",
              "  'the',\n",
              "  '<UNK>',\n",
              "  'food',\n",
              "  '</s>'],\n",
              " ['<s>', 'fresh', 'and', '<UNK>', '!', '</s>'],\n",
              " ['<s>', 'strawberry', 'twizzlers', '-', 'yummy', '</s>'],\n",
              " ['<s>',\n",
              "  '<UNK>',\n",
              "  'of',\n",
              "  'twizzlers',\n",
              "  ',',\n",
              "  'just',\n",
              "  '<UNK>',\n",
              "  'you',\n",
              "  '<UNK>',\n",
              "  '.',\n",
              "  '</s>'],\n",
              " ['<s>', '<UNK>', 'taste', '</s>'],\n",
              " ['<s>', 'love', 'it', '!', '</s>'],\n",
              " ['<s>', 'great', '<UNK>', '<UNK>', '!', '</s>'],\n",
              " ['<s>', '<UNK>', '<UNK>', '<UNK>', '</s>'],\n",
              " ['<s>', '<UNK>', 'fresh', '</s>'],\n",
              " ['<s>', 'twizzlers', '</s>'],\n",
              " ['<s>', 'delicious', 'product', '!', '</s>'],\n",
              " ['<s>', 'twizzlers', '</s>'],\n",
              " ['<s>', '<UNK>', '<UNK>', '<UNK>', 'in', '<UNK>', '!', '!', '</s>'],\n",
              " ['<s>', 'twizzlers', '-', 'strawberry', '</s>'],\n",
              " ['<s>', '<UNK>', 'no', 'flavor', '</s>'],\n",
              " ['<s>', 'great', '<UNK>', 'for', 'the', 'price', '</s>'],\n",
              " ['<s>', 'yummy', '!', '</s>'],\n",
              " ['<s>', 'the', 'best', 'hot', 'sauce', 'in', 'the', 'world', '</s>'],\n",
              " ['<s>', 'great', '<UNK>', '!', '</s>'],\n",
              " ['<s>', 'this', 'is', 'my', 'taste', '...', '</s>'],\n",
              " ['<s>', 'best', 'of', 'the', 'instant', '<UNK>', '</s>'],\n",
              " ['<s>', 'good', 'instant', '</s>'],\n",
              " ['<s>',\n",
              "  'great',\n",
              "  '<UNK>',\n",
              "  'oatmeal',\n",
              "  'for',\n",
              "  '<UNK>',\n",
              "  'in',\n",
              "  'a',\n",
              "  '<UNK>',\n",
              "  '!',\n",
              "  '</s>'],\n",
              " ['<s>', '<UNK>', '</s>'],\n",
              " ['<s>', 'love', '<UNK>', '<UNK>', 'oatmeal', '!', '!', '!', '</s>'],\n",
              " ['<s>', 'it', \"'s\", 'oatmeal', '</s>'],\n",
              " ['<s>', 'good', '<UNK>', 'to', '<UNK>', 'the', '<UNK>', '...', '.', '</s>'],\n",
              " ['<s>', '<UNK>', \"'s\", '<UNK>', 'breakfast', '</s>'],\n",
              " ['<s>',\n",
              "  '<UNK>',\n",
              "  'would',\n",
              "  \"n't\",\n",
              "  'you',\n",
              "  '<UNK>',\n",
              "  'oatmeal',\n",
              "  '<UNK>',\n",
              "  '<UNK>',\n",
              "  '?',\n",
              "  '<UNK>',\n",
              "  'great',\n",
              "  '!',\n",
              "  '</s>'],\n",
              " ['<s>', 'oatmeal', 'for', 'oatmeal', '<UNK>', '</s>'],\n",
              " ['<s>', '<UNK>', '</s>'],\n",
              " ['<s>', 'good', 'hot', 'breakfast', '</s>'],\n",
              " ['<s>', 'great', 'taste', 'and', '<UNK>', '</s>'],\n",
              " ['<s>', '<UNK>', 'oatmeal', '</s>'],\n",
              " ['<s>', 'good', '</s>'],\n",
              " ['<s>', '<UNK>', '</s>'],\n",
              " ['<s>',\n",
              "  '<UNK>',\n",
              "  'good',\n",
              "  '<UNK>',\n",
              "  '<UNK>',\n",
              "  '<UNK>',\n",
              "  '<UNK>',\n",
              "  '<UNK>',\n",
              "  \"n't\",\n",
              "  'order',\n",
              "  'the',\n",
              "  '<UNK>',\n",
              "  '<UNK>',\n",
              "  '</s>'],\n",
              " ['<s>', '<UNK>', 'stuff', '</s>'],\n",
              " ['<s>', '<UNK>', \"n't\", '<UNK>', 'it', '</s>'],\n",
              " ['<s>',\n",
              "  'hot',\n",
              "  '!',\n",
              "  'and',\n",
              "  'good',\n",
              "  '!',\n",
              "  '<UNK>',\n",
              "  '<UNK>',\n",
              "  'for',\n",
              "  '<UNK>',\n",
              "  '<UNK>',\n",
              "  '<UNK>',\n",
              "  '</s>'],\n",
              " ['<s>',\n",
              "  'you',\n",
              "  '<UNK>',\n",
              "  'go',\n",
              "  '<UNK>',\n",
              "  '<UNK>',\n",
              "  '<UNK>',\n",
              "  '<UNK>',\n",
              "  '<UNK>',\n",
              "  '.',\n",
              "  '</s>'],\n",
              " ['<s>', 'not', '<UNK>', '<UNK>', '</s>'],\n",
              " ['<s>', '<UNK>', '<UNK>', 'a', '<UNK>', '<UNK>', '</s>'],\n",
              " ['<s>', 'our', '<UNK>', 'love', 'it', '!', '</s>'],\n",
              " ['<s>', '<UNK>', 'deal', '!', '</s>'],\n",
              " ['<s>', 'how', '<UNK>', 'you', 'go', '<UNK>', '!', '</s>'],\n",
              " ['<s>', '<UNK>', '-', '<UNK>', 'in', '<UNK>', '<UNK>', '<UNK>', '!', '</s>'],\n",
              " ['<s>', 'great', 'deal', '.', '</s>'],\n",
              " ['<s>', 'better', 'price', 'for', 'this', '<UNK>', '<UNK>', '</s>'],\n",
              " ['<s>', '<UNK>', 'expensive', '</s>'],\n",
              " ['<s>', '<UNK>', 'product', '.', '</s>'],\n",
              " ['<s>', '<UNK>', '<UNK>', \"'s\", '<UNK>', '<UNK>', '!', '</s>'],\n",
              " ['<s>', 'great', '<UNK>', 'of', '<UNK>', '</s>'],\n",
              " ['<s>', 'great', 'for', '<UNK>', '<UNK>', '</s>'],\n",
              " ['<s>', '<UNK>', '<UNK>', '<UNK>', 'to', '<UNK>', '</s>'],\n",
              " ['<s>', 'taste', 'is', 'not', 'so', 'good', '.', '</s>'],\n",
              " ['<s>',\n",
              "  'how',\n",
              "  '<UNK>',\n",
              "  'would',\n",
              "  'you',\n",
              "  '<UNK>',\n",
              "  'for',\n",
              "  'a',\n",
              "  '<UNK>',\n",
              "  'of',\n",
              "  '<UNK>',\n",
              "  '<UNK>',\n",
              "  '?',\n",
              "  '</s>'],\n",
              " ['<s>', '<UNK>', '<UNK>', '!', '</s>'],\n",
              " ['<s>', 'great', '<UNK>', '!', '</s>'],\n",
              " ['<s>', '<UNK>', '<UNK>', '<UNK>', 'brands', '</s>'],\n",
              " ['<s>', 'best', '<UNK>', '<UNK>', '<UNK>', '</s>'],\n",
              " ['<s>', 'warning', '!', 'warning', '!', '<UNK>', '<UNK>', '!', '</s>'],\n",
              " ['<s>', '<UNK>', '<UNK>', '</s>'],\n",
              " ['<s>', 'no', '<UNK>', 'flavor', '</s>'],\n",
              " ['<s>', 'good', '</s>'],\n",
              " ['<s>', 'taste', 'great', '</s>'],\n",
              " ['<s>', 'order', '<UNK>', 'in', '<UNK>', '<UNK>', '</s>'],\n",
              " ['<s>', 'this', 'is', 'the', 'best', '</s>'],\n",
              " ['<s>', 'delicious', '!', '</s>'],\n",
              " ['<s>', 'great', '</s>'],\n",
              " ['<s>',\n",
              "  '<UNK>',\n",
              "  '<UNK>',\n",
              "  '<UNK>',\n",
              "  '-',\n",
              "  'this',\n",
              "  'stuff',\n",
              "  '<UNK>',\n",
              "  'a',\n",
              "  '<UNK>',\n",
              "  '<UNK>',\n",
              "  '!',\n",
              "  '</s>'],\n",
              " ['<s>', '<UNK>', '<UNK>', '<UNK>', 'and', '<UNK>', '</s>'],\n",
              " ['<s>', '<UNK>', 'my', 'dogs', '<UNK>', '</s>'],\n",
              " ['<s>', 'great', 'food', '!', '</s>'],\n",
              " ['<s>', 'great', 'for', 'my', 'dogs', 'allergies', '</s>'],\n",
              " ['<s>', 'great', 'for', 'stomach', '<UNK>', '!', '</s>'],\n",
              " ['<s>', 'better', '<UNK>', 'for', 'you', 'dog', '!', '</s>'],\n",
              " ['<s>', 'great', 'food', '</s>'],\n",
              " ['<s>',\n",
              "  'great',\n",
              "  'food',\n",
              "  'for',\n",
              "  'my',\n",
              "  'my',\n",
              "  'dog',\n",
              "  '<UNK>',\n",
              "  '<UNK>',\n",
              "  'a',\n",
              "  'sensitive',\n",
              "  'stomach',\n",
              "  '.',\n",
              "  '</s>'],\n",
              " ['<s>', 'great', 'dog', 'food', '</s>'],\n",
              " ['<s>', 'mmmmm', 'mmmmm', 'good', '.', '</s>'],\n",
              " ['<s>', 'great', 'dog', 'food', '!', '</s>'],\n",
              " ['<s>', 'so', '<UNK>', '</s>'],\n",
              " ['<s>', 'good', 'healthy', 'dog', 'food', '</s>'],\n",
              " ['<s>', 'great', 'dog', 'food', '</s>'],\n",
              " ['<s>',\n",
              "  'great',\n",
              "  '<UNK>',\n",
              "  'sensitive',\n",
              "  'dog',\n",
              "  'food',\n",
              "  ',',\n",
              "  'dogs',\n",
              "  'love',\n",
              "  'it',\n",
              "  '</s>'],\n",
              " ['<s>',\n",
              "  '<UNK>',\n",
              "  'for',\n",
              "  'our',\n",
              "  '<UNK>',\n",
              "  '<UNK>',\n",
              "  '<UNK>',\n",
              "  'allergies',\n",
              "  '</s>'],\n",
              " ['<s>', '<UNK>', '</s>']]"
            ]
          },
          "metadata": {
            "tags": []
          },
          "execution_count": 350
        }
      ]
    },
    {
      "metadata": {
        "id": "X7k3GUTkzFxU",
        "colab_type": "code",
        "colab": {
          "autoexec": {
            "startup": false,
            "wait_interval": 0
          },
          "output_extras": [
            {}
          ],
          "base_uri": "https://localhost:8080/",
          "height": 34
        },
        "outputId": "1b0a85b9-2e2f-4796-ffd8-faaa21d67ed6",
        "executionInfo": {
          "status": "ok",
          "timestamp": 1522564367235,
          "user_tz": 240,
          "elapsed": 513,
          "user": {
            "displayName": "Nikhil Badugu",
            "photoUrl": "https://lh3.googleusercontent.com/a/default-user=s128",
            "userId": "103304218297095716668"
          }
        }
      },
      "cell_type": "code",
      "source": [
        "for i,j in enumerate(length):\n",
        "  if j == 24:\n",
        "    print(i)\n",
        "  "
      ],
      "execution_count": 0,
      "outputs": [
        {
          "output_type": "stream",
          "text": [
            "477\n"
          ],
          "name": "stdout"
        }
      ]
    },
    {
      "metadata": {
        "id": "nrGMHtdyzZQ3",
        "colab_type": "code",
        "colab": {
          "autoexec": {
            "startup": false,
            "wait_interval": 0
          },
          "output_extras": [
            {}
          ],
          "base_uri": "https://localhost:8080/",
          "height": 432
        },
        "outputId": "e35de3d4-fb66-4227-dc58-95690f535f6e",
        "executionInfo": {
          "status": "ok",
          "timestamp": 1522564377366,
          "user_tz": 240,
          "elapsed": 309,
          "user": {
            "displayName": "Nikhil Badugu",
            "photoUrl": "https://lh3.googleusercontent.com/a/default-user=s128",
            "userId": "103304218297095716668"
          }
        }
      },
      "cell_type": "code",
      "source": [
        "target_sents[477]"
      ],
      "execution_count": 0,
      "outputs": [
        {
          "output_type": "execute_result",
          "data": {
            "text/plain": [
              "['<s>',\n",
              " 'fantastic',\n",
              " '!',\n",
              " 'you',\n",
              " 'can',\n",
              " 'not',\n",
              " '<UNK>',\n",
              " 'this',\n",
              " 'taste',\n",
              " 'and',\n",
              " 'you',\n",
              " 'can',\n",
              " 'not',\n",
              " '<UNK>',\n",
              " 'to',\n",
              " 'it',\n",
              " 'only',\n",
              " 'one',\n",
              " '<UNK>',\n",
              " 'you',\n",
              " 'are',\n",
              " '<UNK>',\n",
              " '<UNK>',\n",
              " '</s>']"
            ]
          },
          "metadata": {
            "tags": []
          },
          "execution_count": 314
        }
      ]
    },
    {
      "metadata": {
        "id": "0B1-6SAXx7SE",
        "colab_type": "code",
        "colab": {
          "autoexec": {
            "startup": false,
            "wait_interval": 0
          }
        }
      },
      "cell_type": "code",
      "source": [
        "vocab_size = 14971\n",
        "num_units = 128\n",
        "input_size = 128\n",
        "batch_size = 17"
      ],
      "execution_count": 0,
      "outputs": []
    },
    {
      "metadata": {
        "id": "kMntqNPWyWlX",
        "colab_type": "code",
        "colab": {
          "autoexec": {
            "startup": false,
            "wait_interval": 0
          }
        }
      },
      "cell_type": "code",
      "source": [
        "decoder_type = 'basic' # could be basic or attention\n"
      ],
      "execution_count": 0,
      "outputs": []
    },
    {
      "metadata": {
        "id": "vLyr_Nb3yg7M",
        "colab_type": "code",
        "colab": {
          "autoexec": {
            "startup": false,
            "wait_interval": 0
          }
        }
      },
      "cell_type": "code",
      "source": [
        "input_size = 128\n",
        "encoder_emb_layer = embedding_matrix\n",
        "decoder_emb_layer = embedding_matrix"
      ],
      "execution_count": 0,
      "outputs": []
    },
    {
      "metadata": {
        "id": "WDiOMXHnyl7A",
        "colab_type": "code",
        "colab": {
          "autoexec": {
            "startup": false,
            "wait_interval": 0
          }
        }
      },
      "cell_type": "code",
      "source": [
        "# enc_train_inputs = []\n",
        "# dec_train_inputs = []\n",
        "\n",
        "\n",
        "# tf.reset_default_graph()\n",
        "\n",
        "\n",
        "# enc_train_inputs = tf.placeholder(tf.int32, shape=[batch_size],name='enc_train_inputs')\n",
        "\n",
        "# dec_train_inputs = tf.placeholder(tf.int32, shape=[batch_size],name='dec_train_inputs')\n",
        "    \n",
        "# encoder_emb_inp = tf.nn.embedding_lookup(encoder_emb_layer, enc_train_inputs)\n",
        "\n",
        "# decoder_emb_inp = tf.nn.embedding_lookup(decoder_emb_layer, dec_train_inputs)\n",
        "\n",
        "# enc_train_inp_lengths = tf.placeholder(tf.int32, shape=[batch_size],name='train_input_lengths')\n",
        "# dec_train_inp_lengths = tf.placeholder(tf.int32, shape=[batch_size],name='train_output_lengths')\n"
      ],
      "execution_count": 0,
      "outputs": []
    },
    {
      "metadata": {
        "id": "e7jV7-e9zPvp",
        "colab_type": "code",
        "colab": {
          "autoexec": {
            "startup": false,
            "wait_interval": 0
          }
        }
      },
      "cell_type": "code",
      "source": [
        "#   #############################################\n",
        "#   ## Encoder\n",
        "#   encoder_cell = tf.nn.rnn_cell.BasicLSTMCell(num_units)\n",
        "\n",
        "#   initial_state = encoder_cell.zero_state(batch_size, dtype=tf.float32)\n",
        "\n",
        "#   encoder_outputs, encoder_state = tf.nn.dynamic_rnn(\n",
        "#       encoder_cell, encoder_emb_inp, initial_state=initial_state,\n",
        "#       sequence_length=enc_train_inp_lengths,\n",
        "#       time_major=True, swap_memory=True)\n",
        "  \n",
        "#   # Build RNN cell\n",
        "  \n",
        "\n",
        "  \n",
        "#   ###############################################\n",
        " \n",
        "  \n",
        "#   ############################################################\n",
        "\n",
        " \n"
      ],
      "execution_count": 0,
      "outputs": []
    },
    {
      "metadata": {
        "id": "bCbvLDVr0DOy",
        "colab_type": "code",
        "colab": {
          "autoexec": {
            "startup": false,
            "wait_interval": 0
          },
          "output_extras": [
            {
              "item_id": 1
            }
          ],
          "base_uri": "https://localhost:8080/",
          "height": 214
        },
        "outputId": "21e1d949-1c84-435a-f0ae-c0ac37a4766a",
        "executionInfo": {
          "status": "error",
          "timestamp": 1522623238604,
          "user_tz": 240,
          "elapsed": 498,
          "user": {
            "displayName": "Nikhil Badugu",
            "photoUrl": "https://lh3.googleusercontent.com/a/default-user=s128",
            "userId": "103304218297095716668"
          }
        }
      },
      "cell_type": "code",
      "source": [
        "NUM_EPOCS = 2\n",
        "RNN_STATE_DIM = 128\n",
        "RNN_NUM_LAYERS = 1\n",
        "ENCODER_EMBEDDING_DIM = DECODER_EMBEDDING_DIM = 128\n",
        " \n",
        "BATCH_SIZE = int(32)\n",
        "LEARNING_RATE = 0.0003\n",
        " \n",
        "INPUT_NUM_VOCAB = len(src_dictionary)\n",
        "OUTPUT_NUM_VOCAB = len(tgt_dictionary)"
      ],
      "execution_count": 1,
      "outputs": [
        {
          "output_type": "error",
          "ename": "NameError",
          "evalue": "ignored",
          "traceback": [
            "\u001b[0;31m\u001b[0m",
            "\u001b[0;31mNameError\u001b[0mTraceback (most recent call last)",
            "\u001b[0;32m<ipython-input-1-cf546cd605ec>\u001b[0m in \u001b[0;36m<module>\u001b[0;34m()\u001b[0m\n\u001b[1;32m      7\u001b[0m \u001b[0mLEARNING_RATE\u001b[0m \u001b[0;34m=\u001b[0m \u001b[0;36m0.0003\u001b[0m\u001b[0;34m\u001b[0m\u001b[0m\n\u001b[1;32m      8\u001b[0m \u001b[0;34m\u001b[0m\u001b[0m\n\u001b[0;32m----> 9\u001b[0;31m \u001b[0mINPUT_NUM_VOCAB\u001b[0m \u001b[0;34m=\u001b[0m \u001b[0mlen\u001b[0m\u001b[0;34m(\u001b[0m\u001b[0msrc_dictionary\u001b[0m\u001b[0;34m)\u001b[0m\u001b[0;34m\u001b[0m\u001b[0m\n\u001b[0m\u001b[1;32m     10\u001b[0m \u001b[0mOUTPUT_NUM_VOCAB\u001b[0m \u001b[0;34m=\u001b[0m \u001b[0mlen\u001b[0m\u001b[0;34m(\u001b[0m\u001b[0mtgt_dictionary\u001b[0m\u001b[0;34m)\u001b[0m\u001b[0;34m\u001b[0m\u001b[0m\n",
            "\u001b[0;31mNameError\u001b[0m: name 'src_dictionary' is not defined"
          ]
        }
      ]
    },
    {
      "metadata": {
        "id": "GoSlD_G-hESr",
        "colab_type": "code",
        "colab": {
          "autoexec": {
            "startup": false,
            "wait_interval": 0
          }
        }
      },
      "cell_type": "code",
      "source": [
        "tf.reset_default_graph()\n",
        "\n",
        "encoder_input_seq = tf.placeholder(\n",
        "    tf.int32, \n",
        "    [None, None],  \n",
        "    name='encoder_input_seq'\n",
        ")\n",
        "\n",
        "encoder_seq_len = tf.placeholder(\n",
        "    tf.int32, \n",
        "    (None,), \n",
        "    name='encoder_seq_len'\n",
        ")\n",
        " \n",
        "# Decoder placeholders\n",
        "decoder_output_seq = tf.placeholder( \n",
        "    tf.int32, \n",
        "    [None, None],\n",
        "    name='decoder_output_seq'\n",
        ")\n",
        "\n",
        "decoder_seq_len = tf.placeholder(\n",
        "    tf.int32,\n",
        "    (None,), \n",
        "    name='decoder_seq_len'\n",
        ")\n",
        "\n",
        "max_decoder_seq_len = tf.reduce_max( \n",
        "    decoder_seq_len, \n",
        "    name='max_decoder_seq_len'\n",
        ")"
      ],
      "execution_count": 0,
      "outputs": []
    },
    {
      "metadata": {
        "id": "MT_3M04HhHFL",
        "colab_type": "code",
        "colab": {
          "autoexec": {
            "startup": false,
            "wait_interval": 0
          }
        }
      },
      "cell_type": "code",
      "source": [
        "def make_cell(state_dim):\n",
        "    lstm_initializer = tf.random_uniform_initializer(-0.1, 0.1)\n",
        "    return tf.contrib.rnn.LSTMCell(state_dim, initializer=lstm_initializer)\n",
        " \n",
        "def make_multi_cell(state_dim, num_layers):\n",
        "    cells = [make_cell(state_dim) for _ in range(num_layers)]\n",
        "    return tf.contrib.rnn.MultiRNNCell(cells)"
      ],
      "execution_count": 0,
      "outputs": []
    },
    {
      "metadata": {
        "id": "yvTL5RDahQAG",
        "colab_type": "code",
        "colab": {
          "autoexec": {
            "startup": false,
            "wait_interval": 0
          }
        }
      },
      "cell_type": "code",
      "source": [
        "# Encoder embedding\n",
        " \n",
        "# encoder_input_embedded = tf.contrib.layers.embed_sequence(\n",
        "#     encoder_input_seq,     \n",
        "#     INPUT_NUM_VOCAB,        \n",
        "#     ENCODER_EMBEDDING_DIM  \n",
        "# )\n",
        "\n",
        "encoder_emb_layer = embedding_matrix\n",
        "\n",
        "encoder_input_embedded = tf.nn.embedding_lookup(encoder_emb_layer, encoder_input_seq)\n",
        "\n",
        " \n",
        "## Encodering output\n",
        " \n",
        "encoder_multi_cell = make_multi_cell(RNN_STATE_DIM, RNN_NUM_LAYERS)\n",
        " \n",
        "encoder_output, encoder_state = tf.nn.dynamic_rnn(\n",
        "    encoder_multi_cell, \n",
        "    encoder_input_embedded, \n",
        "    sequence_length=encoder_seq_len, \n",
        "    dtype=tf.float32\n",
        ")\n",
        " \n",
        "del(encoder_output)"
      ],
      "execution_count": 0,
      "outputs": []
    },
    {
      "metadata": {
        "id": "R7wA2WM3hT3F",
        "colab_type": "code",
        "colab": {
          "autoexec": {
            "startup": false,
            "wait_interval": 0
          }
        }
      },
      "cell_type": "code",
      "source": [
        "decoder_raw_seq = decoder_output_seq[:, :-1]  \n",
        "\n",
        "go_prefixes = tf.fill([BATCH_SIZE, 1], tgt_dictionary['<s>'])  \n",
        "\n",
        "decoder_input_seq = tf.concat([go_prefixes, decoder_raw_seq], 1)"
      ],
      "execution_count": 0,
      "outputs": []
    },
    {
      "metadata": {
        "id": "mwAdtiuHhf34",
        "colab_type": "code",
        "colab": {
          "autoexec": {
            "startup": false,
            "wait_interval": 0
          }
        }
      },
      "cell_type": "code",
      "source": [
        "#decoder_embedding = tf.Variable(tf.random_uniform([OUTPUT_NUM_VOCAB, \n",
        "#                                                   DECODER_EMBEDDING_DIM]))\n",
        "\n",
        "decoder_embedding = embedding_matrix  \n",
        "decoder_input_embedded = tf.nn.embedding_lookup(decoder_embedding, \n",
        "                                                decoder_input_seq)\n",
        "\n",
        "decoder_multi_cell = make_multi_cell(RNN_STATE_DIM, RNN_NUM_LAYERS)\n",
        " \n",
        "output_layer_kernel_initializer = tf.truncated_normal_initializer(mean=0.0, stddev=0.1)\n",
        "output_layer = Dense(\n",
        "    OUTPUT_NUM_VOCAB,\n",
        "    kernel_initializer = output_layer_kernel_initializer\n",
        ")"
      ],
      "execution_count": 0,
      "outputs": []
    },
    {
      "metadata": {
        "id": "TjFXMPzthkCC",
        "colab_type": "code",
        "colab": {
          "autoexec": {
            "startup": false,
            "wait_interval": 0
          }
        }
      },
      "cell_type": "code",
      "source": [
        "with tf.variable_scope(\"decode\"):\n",
        " \n",
        "    training_helper = tf.contrib.seq2seq.TrainingHelper(\n",
        "        inputs=decoder_input_embedded,\n",
        "        sequence_length=decoder_seq_len,\n",
        "        time_major=False\n",
        "    )\n",
        " \n",
        "    training_decoder = tf.contrib.seq2seq.BasicDecoder(\n",
        "        decoder_multi_cell,\n",
        "        training_helper,\n",
        "        encoder_state,\n",
        "        output_layer\n",
        "    ) \n",
        " \n",
        "    training_decoder_output_seq, _, _ = tf.contrib.seq2seq.dynamic_decode(\n",
        "        training_decoder, \n",
        "        impute_finished=True, \n",
        "        maximum_iterations=max_decoder_seq_len\n",
        "    )"
      ],
      "execution_count": 0,
      "outputs": []
    },
    {
      "metadata": {
        "id": "lXL0pcnshmrv",
        "colab_type": "code",
        "colab": {
          "autoexec": {
            "startup": false,
            "wait_interval": 0
          }
        }
      },
      "cell_type": "code",
      "source": [
        "with tf.variable_scope(\"decode\", reuse=True):\n",
        "    start_tokens = tf.tile(\n",
        "        tf.constant([tgt_dictionary['<s>']], \n",
        "                    dtype=tf.int32), \n",
        "        [BATCH_SIZE], \n",
        "        name='start_tokens')\n",
        " \n",
        "    # Helper for the inference process.\n",
        "    inference_helper = tf.contrib.seq2seq.GreedyEmbeddingHelper(\n",
        "        embedding=decoder_embedding,\n",
        "        start_tokens=start_tokens,\n",
        "        end_token=tgt_dictionary['</s>']\n",
        "    )\n",
        " \n",
        "    # Basic decoder\n",
        "    inference_decoder = tf.contrib.seq2seq.BasicDecoder(\n",
        "        decoder_multi_cell,\n",
        "        inference_helper,\n",
        "        encoder_state,\n",
        "        output_layer\n",
        "    )\n",
        " \n",
        "    # Perform dynamic decoding using the decoder\n",
        "    inference_decoder_output_seq, _, _ = tf.contrib.seq2seq.dynamic_decode(\n",
        "        inference_decoder,\n",
        "        impute_finished=True,\n",
        "        maximum_iterations=max_decoder_seq_len\n",
        "    )"
      ],
      "execution_count": 0,
      "outputs": []
    },
    {
      "metadata": {
        "id": "wqWZYIIshriz",
        "colab_type": "code",
        "colab": {
          "autoexec": {
            "startup": false,
            "wait_interval": 0
          }
        }
      },
      "cell_type": "code",
      "source": [
        "training_logits = tf.identity(training_decoder_output_seq.rnn_output, name='logits')\n",
        "inference_logits = tf.identity(inference_decoder_output_seq.sample_id, name='predictions')\n",
        " \n",
        "# Create the weights for sequence_loss\n",
        "masks = tf.sequence_mask(\n",
        "    decoder_seq_len, \n",
        "    max_decoder_seq_len, \n",
        "    dtype=tf.float32, \n",
        "    name='masks'\n",
        ")\n",
        " \n",
        "cost = tf.contrib.seq2seq.sequence_loss(\n",
        "    training_logits,\n",
        "    decoder_output_seq,\n",
        "    masks\n",
        ")\n"
      ],
      "execution_count": 0,
      "outputs": []
    },
    {
      "metadata": {
        "id": "7ah4ILNVh2tZ",
        "colab_type": "code",
        "colab": {
          "autoexec": {
            "startup": false,
            "wait_interval": 0
          }
        }
      },
      "cell_type": "code",
      "source": [
        "optimizer = tf.train.AdamOptimizer(LEARNING_RATE)\n",
        "train_pred = training_decoder_output_seq.sample_id\n",
        "\n",
        "gradients = optimizer.compute_gradients(cost)\n",
        "capped_gradients = [(tf.clip_by_value(grad, -5., 5.), var)\n",
        "                        for grad, var in gradients if grad is not None]\n",
        "train_op = optimizer.apply_gradients(capped_gradients)"
      ],
      "execution_count": 0,
      "outputs": []
    },
    {
      "metadata": {
        "id": "sTt4s_yjh47G",
        "colab_type": "code",
        "colab": {
          "autoexec": {
            "startup": false,
            "wait_interval": 0
          }
        }
      },
      "cell_type": "code",
      "source": [
        "def pad(xs, size, pad):\n",
        "    return xs + [pad] * (size - len(xs))"
      ],
      "execution_count": 0,
      "outputs": []
    },
    {
      "metadata": {
        "id": "th48VjNbh7PU",
        "colab_type": "code",
        "colab": {
          "autoexec": {
            "startup": false,
            "wait_interval": 0
          }
        }
      },
      "cell_type": "code",
      "source": [
        "input_seq = [\n",
        "    [src_dictionary.get(symbol, src_dictionary['<UNK>']) \n",
        "        for symbol in line]  \n",
        "    for line in source_sents\n",
        "]\n"
      ],
      "execution_count": 0,
      "outputs": []
    },
    {
      "metadata": {
        "id": "5pvFDQwKrMKj",
        "colab_type": "code",
        "colab": {
          "autoexec": {
            "startup": false,
            "wait_interval": 0
          }
        }
      },
      "cell_type": "code",
      "source": [
        "output_seq = [\n",
        "    [tgt_dictionary.get(symbol, tgt_dictionary['<UNK>']) \n",
        "        for symbol in line] + [tgt_dictionary['</s>']]  \n",
        "    for line in target_sents  \n",
        "]"
      ],
      "execution_count": 0,
      "outputs": []
    },
    {
      "metadata": {
        "id": "0VcB7gi9iVPY",
        "colab_type": "code",
        "colab": {
          "autoexec": {
            "startup": false,
            "wait_interval": 0
          },
          "output_extras": [
            {},
            {}
          ],
          "base_uri": "https://localhost:8080/",
          "height": 1083
        },
        "outputId": "f9d763a9-97ce-4411-c30e-0621f7e6ec4a",
        "executionInfo": {
          "status": "error",
          "timestamp": 1522564655230,
          "user_tz": 240,
          "elapsed": 50734,
          "user": {
            "displayName": "Nikhil Badugu",
            "photoUrl": "https://lh3.googleusercontent.com/a/default-user=s128",
            "userId": "103304218297095716668"
          }
        }
      },
      "cell_type": "code",
      "source": [
        "sess = tf.InteractiveSession()\n",
        "sess.run(tf.global_variables_initializer())\n",
        "saver = tf.train.Saver()  \n",
        " \n",
        "for epoch in range(NUM_EPOCS + 1):  \n",
        "    for batch_idx in range(len(source_sents) // BATCH_SIZE):         \n",
        "        input_batch, input_lengths, output_batch, output_lengths = [], [], [], []\n",
        "        for sentence in source_sents[batch_idx:batch_idx + BATCH_SIZE]:\n",
        "            symbol_sent = [src_dictionary[symbol] for symbol in sentence]\n",
        "            padded_symbol_sent = pad(symbol_sent, max_length_source, src_dictionary['</s>'])\n",
        "            input_batch.append(padded_symbol_sent)\n",
        "            input_lengths.append(len(sentence))\n",
        "        for sentence in target_sents[batch_idx:batch_idx + BATCH_SIZE]:\n",
        "            symbol_sent = [tgt_dictionary[symbol] for symbol in sentence]\n",
        "            padded_symbol_sent = pad(symbol_sent, max_length_target, tgt_dictionary['</s>'])\n",
        "            output_batch.append(padded_symbol_sent)\n",
        "            output_lengths.append(len(sentence))\n",
        "\n",
        "            \n",
        "        _, cost_val, pred = sess.run( \n",
        "            [train_op, cost, train_pred] \n",
        "            feed_dict={\n",
        "                encoder_input_seq: input_batch,\n",
        "                encoder_seq_len: input_lengths,\n",
        "                decoder_output_seq: output_batch,\n",
        "                decoder_seq_len: output_lengths\n",
        "            }\n",
        "        )\n",
        "        \n",
        "        if batch_idx % 629 == 0:\n",
        "            print('Epcoh {}. Batch {}/{}. Cost {}'.format(epoch, batch_idx, len(target_sents) // BATCH_SIZE, cost_val))\n",
        "\n",
        "        saver.save(sess, 'drive/Colab Notebooks/Summarization/model.ckpt')   \n",
        "sess.close()"
      ],
      "execution_count": 0,
      "outputs": [
        {
          "output_type": "stream",
          "text": [
            "Epcoh 0. Batch 0/3. Cost 4.26188230515\n"
          ],
          "name": "stdout"
        },
        {
          "output_type": "error",
          "ename": "KeyboardInterrupt",
          "evalue": "ignored",
          "traceback": [
            "\u001b[0;31m\u001b[0m",
            "\u001b[0;31mKeyboardInterrupt\u001b[0mTraceback (most recent call last)",
            "\u001b[0;32m<ipython-input-367-5fa803629765>\u001b[0m in \u001b[0;36m<module>\u001b[0;34m()\u001b[0m\n\u001b[1;32m     31\u001b[0m             \u001b[0;32mprint\u001b[0m\u001b[0;34m(\u001b[0m\u001b[0;34m'Epcoh {}. Batch {}/{}. Cost {}'\u001b[0m\u001b[0;34m.\u001b[0m\u001b[0mformat\u001b[0m\u001b[0;34m(\u001b[0m\u001b[0mepoch\u001b[0m\u001b[0;34m,\u001b[0m \u001b[0mbatch_idx\u001b[0m\u001b[0;34m,\u001b[0m \u001b[0mlen\u001b[0m\u001b[0;34m(\u001b[0m\u001b[0mtarget_sents\u001b[0m\u001b[0;34m)\u001b[0m \u001b[0;34m//\u001b[0m \u001b[0mBATCH_SIZE\u001b[0m\u001b[0;34m,\u001b[0m \u001b[0mcost_val\u001b[0m\u001b[0;34m)\u001b[0m\u001b[0;34m)\u001b[0m\u001b[0;34m\u001b[0m\u001b[0m\n\u001b[1;32m     32\u001b[0m \u001b[0;34m\u001b[0m\u001b[0m\n\u001b[0;32m---> 33\u001b[0;31m         \u001b[0msaver\u001b[0m\u001b[0;34m.\u001b[0m\u001b[0msave\u001b[0m\u001b[0;34m(\u001b[0m\u001b[0msess\u001b[0m\u001b[0;34m,\u001b[0m \u001b[0;34m'drive/Colab Notebooks/Summarization/model.ckpt'\u001b[0m\u001b[0;34m)\u001b[0m\u001b[0;34m\u001b[0m\u001b[0m\n\u001b[0m\u001b[1;32m     34\u001b[0m \u001b[0msess\u001b[0m\u001b[0;34m.\u001b[0m\u001b[0mclose\u001b[0m\u001b[0;34m(\u001b[0m\u001b[0;34m)\u001b[0m\u001b[0;34m\u001b[0m\u001b[0m\n",
            "\u001b[0;32m/usr/local/lib/python2.7/dist-packages/tensorflow/python/training/saver.pyc\u001b[0m in \u001b[0;36msave\u001b[0;34m(self, sess, save_path, global_step, latest_filename, meta_graph_suffix, write_meta_graph, write_state, strip_default_attrs)\u001b[0m\n\u001b[1;32m   1681\u001b[0m         \u001b[0;32mwith\u001b[0m \u001b[0msess\u001b[0m\u001b[0;34m.\u001b[0m\u001b[0mgraph\u001b[0m\u001b[0;34m.\u001b[0m\u001b[0mas_default\u001b[0m\u001b[0;34m(\u001b[0m\u001b[0;34m)\u001b[0m\u001b[0;34m:\u001b[0m\u001b[0;34m\u001b[0m\u001b[0m\n\u001b[1;32m   1682\u001b[0m           self.export_meta_graph(\n\u001b[0;32m-> 1683\u001b[0;31m               meta_graph_filename, strip_default_attrs=strip_default_attrs)\n\u001b[0m\u001b[1;32m   1684\u001b[0m \u001b[0;34m\u001b[0m\u001b[0m\n\u001b[1;32m   1685\u001b[0m     \u001b[0;32mif\u001b[0m \u001b[0mself\u001b[0m\u001b[0;34m.\u001b[0m\u001b[0m_is_empty\u001b[0m\u001b[0;34m:\u001b[0m\u001b[0;34m\u001b[0m\u001b[0m\n",
            "\u001b[0;32m/usr/local/lib/python2.7/dist-packages/tensorflow/python/training/saver.pyc\u001b[0m in \u001b[0;36mexport_meta_graph\u001b[0;34m(self, filename, collection_list, as_text, export_scope, clear_devices, clear_extraneous_savers, strip_default_attrs)\u001b[0m\n\u001b[1;32m   1726\u001b[0m         \u001b[0mclear_devices\u001b[0m\u001b[0;34m=\u001b[0m\u001b[0mclear_devices\u001b[0m\u001b[0;34m,\u001b[0m\u001b[0;34m\u001b[0m\u001b[0m\n\u001b[1;32m   1727\u001b[0m         \u001b[0mclear_extraneous_savers\u001b[0m\u001b[0;34m=\u001b[0m\u001b[0mclear_extraneous_savers\u001b[0m\u001b[0;34m,\u001b[0m\u001b[0;34m\u001b[0m\u001b[0m\n\u001b[0;32m-> 1728\u001b[0;31m         strip_default_attrs=strip_default_attrs)\n\u001b[0m\u001b[1;32m   1729\u001b[0m \u001b[0;34m\u001b[0m\u001b[0m\n\u001b[1;32m   1730\u001b[0m   \u001b[0;32mdef\u001b[0m \u001b[0mrestore\u001b[0m\u001b[0;34m(\u001b[0m\u001b[0mself\u001b[0m\u001b[0;34m,\u001b[0m \u001b[0msess\u001b[0m\u001b[0;34m,\u001b[0m \u001b[0msave_path\u001b[0m\u001b[0;34m)\u001b[0m\u001b[0;34m:\u001b[0m\u001b[0;34m\u001b[0m\u001b[0m\n",
            "\u001b[0;32m/usr/local/lib/python2.7/dist-packages/tensorflow/python/training/saver.pyc\u001b[0m in \u001b[0;36mexport_meta_graph\u001b[0;34m(filename, meta_info_def, graph_def, saver_def, collection_list, as_text, graph, export_scope, clear_devices, clear_extraneous_savers, strip_default_attrs, **kwargs)\u001b[0m\n\u001b[1;32m   1994\u001b[0m       \u001b[0mclear_extraneous_savers\u001b[0m\u001b[0;34m=\u001b[0m\u001b[0mclear_extraneous_savers\u001b[0m\u001b[0;34m,\u001b[0m\u001b[0;34m\u001b[0m\u001b[0m\n\u001b[1;32m   1995\u001b[0m       \u001b[0mstrip_default_attrs\u001b[0m\u001b[0;34m=\u001b[0m\u001b[0mstrip_default_attrs\u001b[0m\u001b[0;34m,\u001b[0m\u001b[0;34m\u001b[0m\u001b[0m\n\u001b[0;32m-> 1996\u001b[0;31m       **kwargs)\n\u001b[0m\u001b[1;32m   1997\u001b[0m   \u001b[0;32mreturn\u001b[0m \u001b[0mmeta_graph_def\u001b[0m\u001b[0;34m\u001b[0m\u001b[0m\n\u001b[1;32m   1998\u001b[0m \u001b[0;34m\u001b[0m\u001b[0m\n",
            "\u001b[0;32m/usr/local/lib/python2.7/dist-packages/tensorflow/python/framework/meta_graph.pyc\u001b[0m in \u001b[0;36mexport_scoped_meta_graph\u001b[0;34m(filename, graph_def, graph, export_scope, as_text, unbound_inputs_col_name, clear_devices, saver_def, clear_extraneous_savers, strip_default_attrs, **kwargs)\u001b[0m\n\u001b[1;32m    923\u001b[0m         \u001b[0mos\u001b[0m\u001b[0;34m.\u001b[0m\u001b[0mpath\u001b[0m\u001b[0;34m.\u001b[0m\u001b[0mdirname\u001b[0m\u001b[0;34m(\u001b[0m\u001b[0mfilename\u001b[0m\u001b[0;34m)\u001b[0m\u001b[0;34m,\u001b[0m\u001b[0;34m\u001b[0m\u001b[0m\n\u001b[1;32m    924\u001b[0m         \u001b[0mos\u001b[0m\u001b[0;34m.\u001b[0m\u001b[0mpath\u001b[0m\u001b[0;34m.\u001b[0m\u001b[0mbasename\u001b[0m\u001b[0;34m(\u001b[0m\u001b[0mfilename\u001b[0m\u001b[0;34m)\u001b[0m\u001b[0;34m,\u001b[0m\u001b[0;34m\u001b[0m\u001b[0m\n\u001b[0;32m--> 925\u001b[0;31m         as_text=as_text)\n\u001b[0m\u001b[1;32m    926\u001b[0m \u001b[0;34m\u001b[0m\u001b[0m\n\u001b[1;32m    927\u001b[0m   \u001b[0;32mreturn\u001b[0m \u001b[0mscoped_meta_graph_def\u001b[0m\u001b[0;34m,\u001b[0m \u001b[0mvar_list\u001b[0m\u001b[0;34m\u001b[0m\u001b[0m\n",
            "\u001b[0;32m/usr/local/lib/python2.7/dist-packages/tensorflow/python/framework/graph_io.pyc\u001b[0m in \u001b[0;36mwrite_graph\u001b[0;34m(graph_or_graph_def, logdir, name, as_text)\u001b[0m\n\u001b[1;32m     71\u001b[0m                                         text_format.MessageToString(graph_def))\n\u001b[1;32m     72\u001b[0m   \u001b[0;32melse\u001b[0m\u001b[0;34m:\u001b[0m\u001b[0;34m\u001b[0m\u001b[0m\n\u001b[0;32m---> 73\u001b[0;31m     \u001b[0mfile_io\u001b[0m\u001b[0;34m.\u001b[0m\u001b[0matomic_write_string_to_file\u001b[0m\u001b[0;34m(\u001b[0m\u001b[0mpath\u001b[0m\u001b[0;34m,\u001b[0m \u001b[0mgraph_def\u001b[0m\u001b[0;34m.\u001b[0m\u001b[0mSerializeToString\u001b[0m\u001b[0;34m(\u001b[0m\u001b[0;34m)\u001b[0m\u001b[0;34m)\u001b[0m\u001b[0;34m\u001b[0m\u001b[0m\n\u001b[0m\u001b[1;32m     74\u001b[0m   \u001b[0;32mreturn\u001b[0m \u001b[0mpath\u001b[0m\u001b[0;34m\u001b[0m\u001b[0m\n",
            "\u001b[0;32m/usr/local/lib/python2.7/dist-packages/tensorflow/python/lib/io/file_io.pyc\u001b[0m in \u001b[0;36matomic_write_string_to_file\u001b[0;34m(filename, contents, overwrite)\u001b[0m\n\u001b[1;32m    429\u001b[0m   \u001b[0mwrite_string_to_file\u001b[0m\u001b[0;34m(\u001b[0m\u001b[0mtemp_pathname\u001b[0m\u001b[0;34m,\u001b[0m \u001b[0mcontents\u001b[0m\u001b[0;34m)\u001b[0m\u001b[0;34m\u001b[0m\u001b[0m\n\u001b[1;32m    430\u001b[0m   \u001b[0;32mtry\u001b[0m\u001b[0;34m:\u001b[0m\u001b[0;34m\u001b[0m\u001b[0m\n\u001b[0;32m--> 431\u001b[0;31m     \u001b[0mrename\u001b[0m\u001b[0;34m(\u001b[0m\u001b[0mtemp_pathname\u001b[0m\u001b[0;34m,\u001b[0m \u001b[0mfilename\u001b[0m\u001b[0;34m,\u001b[0m \u001b[0moverwrite\u001b[0m\u001b[0;34m)\u001b[0m\u001b[0;34m\u001b[0m\u001b[0m\n\u001b[0m\u001b[1;32m    432\u001b[0m   \u001b[0;32mexcept\u001b[0m \u001b[0merrors\u001b[0m\u001b[0;34m.\u001b[0m\u001b[0mOpError\u001b[0m\u001b[0;34m:\u001b[0m\u001b[0;34m\u001b[0m\u001b[0m\n\u001b[1;32m    433\u001b[0m     \u001b[0mdelete_file\u001b[0m\u001b[0;34m(\u001b[0m\u001b[0mtemp_pathname\u001b[0m\u001b[0;34m)\u001b[0m\u001b[0;34m\u001b[0m\u001b[0m\n",
            "\u001b[0;32m/usr/local/lib/python2.7/dist-packages/tensorflow/python/lib/io/file_io.pyc\u001b[0m in \u001b[0;36mrename\u001b[0;34m(oldname, newname, overwrite)\u001b[0m\n\u001b[1;32m    408\u001b[0m   \u001b[0;32mwith\u001b[0m \u001b[0merrors\u001b[0m\u001b[0;34m.\u001b[0m\u001b[0mraise_exception_on_not_ok_status\u001b[0m\u001b[0;34m(\u001b[0m\u001b[0;34m)\u001b[0m \u001b[0;32mas\u001b[0m \u001b[0mstatus\u001b[0m\u001b[0;34m:\u001b[0m\u001b[0;34m\u001b[0m\u001b[0m\n\u001b[1;32m    409\u001b[0m     pywrap_tensorflow.RenameFile(\n\u001b[0;32m--> 410\u001b[0;31m         compat.as_bytes(oldname), compat.as_bytes(newname), overwrite, status)\n\u001b[0m\u001b[1;32m    411\u001b[0m \u001b[0;34m\u001b[0m\u001b[0m\n\u001b[1;32m    412\u001b[0m \u001b[0;34m\u001b[0m\u001b[0m\n",
            "\u001b[0;31mKeyboardInterrupt\u001b[0m: "
          ]
        }
      ]
    },
    {
      "metadata": {
        "id": "5rgoY_M2ji0v",
        "colab_type": "code",
        "colab": {
          "autoexec": {
            "startup": false,
            "wait_interval": 0
          },
          "output_extras": [
            {}
          ],
          "base_uri": "https://localhost:8080/",
          "height": 52
        },
        "outputId": "57d5c0b8-04dd-48f8-c744-9b8edc29f118",
        "executionInfo": {
          "status": "ok",
          "timestamp": 1522564687659,
          "user_tz": 240,
          "elapsed": 17440,
          "user": {
            "displayName": "Nikhil Badugu",
            "photoUrl": "https://lh3.googleusercontent.com/a/default-user=s128",
            "userId": "103304218297095716668"
          }
        }
      },
      "cell_type": "code",
      "source": [
        "sess = tf.InteractiveSession()    \n",
        "saver.restore(sess, 'drive/Colab Notebooks/Summarization/model.ckpt')\n",
        "\n",
        "example_input_sent = \"this not a good dog food\"\n",
        "example_input_symb = [tgt_dictionary[symbol] for symbol in example_input_sent.split()]\n",
        "example_input_batch = [pad(example_input_symb, max_length_source, tgt_dictionary['<s>'])] * BATCH_SIZE\n",
        "example_input_lengths = [len(example_input_sent)] * BATCH_SIZE\n",
        "\n",
        "\n",
        "\n",
        "output_ints = sess.run(inference_logits, feed_dict={\n",
        "    encoder_input_seq: example_input_batch,\n",
        "    encoder_seq_len: example_input_lengths,\n",
        "    decoder_seq_len: example_input_lengths\n",
        "})[0]\n",
        "\n",
        "output_str = ' '.join([tgt_reverse_dictionary[i] for i in output_ints])\n",
        "print(output_str)"
      ],
      "execution_count": 0,
      "outputs": [
        {
          "output_type": "stream",
          "text": [
            "INFO:tensorflow:Restoring parameters from drive/Colab Notebooks/Summarization/model.ckpt\n",
            "non-instant non-instant worth\n"
          ],
          "name": "stdout"
        }
      ]
    },
    {
      "metadata": {
        "id": "4lKcF-GxxCWX",
        "colab_type": "code",
        "colab": {
          "autoexec": {
            "startup": false,
            "wait_interval": 0
          }
        }
      },
      "cell_type": "code",
      "source": [
        ""
      ],
      "execution_count": 0,
      "outputs": []
    }
  ]
}